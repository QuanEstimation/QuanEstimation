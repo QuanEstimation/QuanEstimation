{
 "cells": [
  {
   "cell_type": "markdown",
   "metadata": {},
   "source": [
    "# Calculation of Bayesian Cramér-Rao bounds"
   ]
  },
  {
   "cell_type": "markdown",
   "metadata": {},
   "source": [
    "This is the source codes for the example discussed in Sec. III C and D in Ref. [1].\n",
    "\n",
    "The Hamiltonian of a qubit system under a magnetic field $B$ in the XZ plane is\n",
    "\\begin{align}\n",
    "H=\\frac{B\\omega_0}{2}(\\sigma_1\\cos{x}+\\sigma_3\\sin{x})\n",
    "\\end{align}\n",
    "\n",
    "with $x$ the unknown parameter and $\\sigma_{1}$, $\\sigma_{3}$ Pauli matrices.\n",
    "\n",
    "The probe state is taken as $\\frac{1}{\\sqrt{2}}(|0\\rangle+|1\\rangle)$ with $|0\\rangle$ and $|1\\rangle$ the eigenvstates of $\\sigma_3$ with respect to the eigenvalues $1$ and $-1$. The measurement for classical bounds is a set of rank-one symmetric informationally complete positive operator-valued measure (SIC-POVM).\n",
    "\n",
    "Take the Gaussian prior distribution $p(x)=\\frac{1}{c\\eta\\sqrt{2\\pi}}\\exp\\left({-\\frac{(x-\\mu)^2}{2\\eta^2}}\\right)$ on $[-\\pi/2, \\pi/2]$\n",
    "with $\\mu$ and $\\eta$ the expectation and standard deviation, respectively. \n",
    "Here $c=\\frac{1}{2}\\big[\\mathrm{erf}(\\frac{\\pi-2\\mu}{2\\sqrt{2}\\eta})+\\mathrm{erf}(\\frac{\\pi+2\\mu}{2\\sqrt{2}\\eta})\\big]$ \n",
    "is the normalized coefficient with $\\mathrm{erf}(x):=\\frac{2}{\\sqrt{\\pi}}\\int^x_0 e^{-t^2}\\mathrm{d}t$ the error \n",
    "function.\n",
    "\n",
    "[1] M. Zhang et al., QuanEstimation: an open-source toolkit for quantum parameter estimation,\n",
    "arXiv:2205.15588."
   ]
  },
  {
   "cell_type": "code",
   "execution_count": 5,
   "metadata": {},
   "outputs": [],
   "source": [
    "from quanestimation import *\n",
    "import numpy as np\n",
    "from scipy.integrate import simps\n",
    "\n",
    "# initial state\n",
    "rho0 = 0.5*np.array([[1., 1.], [1., 1.]])\n",
    "# free Hamiltonian\n",
    "B, omega0 = 0.5*np.pi, 1.0\n",
    "sx = np.array([[0., 1.], [1., 0.]])\n",
    "sy = np.array([[0., -1.j], [1.j, 0.]]) \n",
    "sz = np.array([[1., 0.], [0., -1.]])\n",
    "H0_func = lambda x: 0.5*B*omega0*(sx*np.cos(x)+sz*np.sin(x))\n",
    "# derivative of the free Hamiltonian on x\n",
    "dH_func = lambda x: [0.5*B*omega0*(-sx*np.sin(x)+sz*np.cos(x))]\n",
    "# prior distribution\n",
    "x = np.linspace(-0.5*np.pi, 0.5*np.pi, 100)\n",
    "mu, eta = 0.0, 0.2\n",
    "p_func = lambda x, mu, eta: np.exp(-(x-mu)**2/(2*eta**2)) \\\n",
    "                            /(eta*np.sqrt(2*np.pi))\n",
    "dp_func = lambda x, mu, eta: -(x-mu)*np.exp(-(x-mu)**2/(2*eta**2)) \\\n",
    "                              /(eta**3*np.sqrt(2*np.pi))\n",
    "p_tp = [p_func(x[i], mu, eta) for i in range(len(x))]\n",
    "dp_tp = [dp_func(x[i], mu, eta) for i in range(len(x))]\n",
    "# normalization of the distribution\n",
    "c = simps(p_tp, x)\n",
    "p, dp = p_tp/c, dp_tp/c\n",
    "# time length for the evolution\n",
    "tspan = np.linspace(0., 1., 1000)\n",
    "# dynamics\n",
    "rho = [np.zeros((len(rho0), len(rho0)), dtype=np.complex128) \\\n",
    "       for i in range(len(x))]\n",
    "drho = [[np.zeros((len(rho0), len(rho0)), dtype=np.complex128)] \\\n",
    "         for i in range(len(x))]\n",
    "for i in range(len(x)):\n",
    "    H0_tp = H0_func(x[i])\n",
    "    dH_tp = dH_func(x[i])\n",
    "    dynamics = Lindblad(tspan, rho0, H0_tp, dH_tp)\n",
    "    rho_tp, drho_tp = dynamics.expm()\n",
    "    rho[i] = rho_tp[-1]\n",
    "    drho[i] = drho_tp[-1]"
   ]
  },
  {
   "cell_type": "markdown",
   "metadata": {},
   "source": [
    "Classical Bayesian bounds"
   ]
  },
  {
   "cell_type": "code",
   "execution_count": 6,
   "metadata": {},
   "outputs": [],
   "source": [
    "f_BCRB1 = BCRB([x], p, [], rho, drho, M=[], btype=1)\n",
    "f_BCRB2 = BCRB([x], p, [], rho, drho, M=[], btype=2)\n",
    "f_BCRB3 = BCRB([x], p, dp, rho, drho, M=[], btype=3)\n",
    "f_VTB = VTB([x], p, dp, rho, drho, M=[])"
   ]
  },
  {
   "cell_type": "markdown",
   "metadata": {},
   "source": [
    "Quantum Bayesian bounds"
   ]
  },
  {
   "cell_type": "code",
   "execution_count": 7,
   "metadata": {},
   "outputs": [],
   "source": [
    "f_BQCRB1 = BQCRB([x], p, [], rho, drho, btype=1)\n",
    "f_BQCRB2 = BQCRB([x], p, [], rho, drho, btype=2)\n",
    "f_BQCRB3 = BQCRB([x], p, dp, rho, drho, btype=3)\n",
    "f_QVTB = QVTB([x], p, dp, rho, drho)\n",
    "f_QZZB = QZZB([x], p, rho)"
   ]
  }
 ],
 "metadata": {
  "kernelspec": {
   "display_name": "Python 3.8.5 ('base')",
   "language": "python",
   "name": "python3"
  },
  "language_info": {
   "codemirror_mode": {
    "name": "ipython",
    "version": 3
   },
   "file_extension": ".py",
   "mimetype": "text/x-python",
   "name": "python",
   "nbconvert_exporter": "python",
   "pygments_lexer": "ipython3",
   "version": "3.8.5"
  },
  "vscode": {
   "interpreter": {
    "hash": "d34272c1815fa88b32f392e0cc1fe18076084d67ac8dd81fe4d16eefd891f6c8"
   }
  }
 },
 "nbformat": 4,
 "nbformat_minor": 4
}
