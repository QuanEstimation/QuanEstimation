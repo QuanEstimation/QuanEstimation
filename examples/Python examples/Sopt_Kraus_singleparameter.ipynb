{
 "cells": [
  {
   "cell_type": "code",
   "execution_count": 5,
   "metadata": {},
   "outputs": [],
   "source": [
    "import numpy as np\n",
    "from quanestimation import *\n",
    "from qutip import *\n",
    "from scipy.linalg import expm\n",
    "\n",
    "def dU_func(s, t, H, dH):\n",
    "    M1 = expm(-1.j*s*H*t)\n",
    "    M2 = -1.j*dH*t\n",
    "    M3 = expm(-1.j*(1-s)*H*t)\n",
    "    return M1@M2@M3\n",
    "\n",
    "def dU(dim, t, H, dH):\n",
    "    S = np.linspace(0.0, 1.0, 1000)\n",
    "    mat = []\n",
    "    for si in S:\n",
    "        mat.append(dU_func(si, t, H, dH))\n",
    "\n",
    "    dU_tp = np.zeros((dim, dim), dtype=np.complex128)\n",
    "    for i in range(dim):\n",
    "        for j in range(dim):\n",
    "            dU_tp[i][j] = np.trapz(np.array([mat[idx][i][j] for idx in range(len(S))]), S)\n",
    "    return dU_tp\n",
    "\n",
    "# LMG model\n",
    "N = 10\n",
    "# generation of the coherent spin state\n",
    "psi_css = spin_coherent(0.5*N, 0.5*np.pi, 0.5*np.pi, type=\"ket\").full()\n",
    "psi_css = psi_css.reshape(1, -1)[0]\n",
    "# guessed state\n",
    "psi0 = [psi_css]\n",
    "# free Hamiltonian\n",
    "Lambda, g, h = 1.0, 0.5, 0.1\n",
    "Jx, Jy, Jz = jmat(0.5*N)\n",
    "Jx, Jy, Jz = Jx.full(), Jy.full(), Jz.full()\n",
    "H0 = -Lambda*(np.dot(Jx, Jx) + g*np.dot(Jy, Jy))/N - h*Jz\n",
    "# derivative of the free Hamiltonian on g\n",
    "dH = -Lambda*np.dot(Jy, Jy)/N\n",
    "# generate Kraus operator and its derivatives\n",
    "t = 10.\n",
    "K = [expm(-1.j*H0*t)]\n",
    "dK = [[dU(len(psi_css), t, H0, dH)]]\n",
    "\n",
    "# State optimization algorithm: reverse iterative\n",
    "paras = {\"psi0\":psi0, \"max_episode\": 300, \"seed\": 1234}\n",
    "state = StateOpt(savefile=True, method=\"RI\", **paras)\n",
    "state.Kraus(K, dK)\n",
    "state.QFIM()"
   ]
  }
 ],
 "metadata": {
  "interpreter": {
   "hash": "949777d72b0d2535278d3dc13498b2535136f6dfe0678499012e853ee9abcab1"
  },
  "kernelspec": {
   "display_name": "Python 3 (ipykernel)",
   "language": "python",
   "name": "python3"
  },
  "language_info": {
   "codemirror_mode": {
    "name": "ipython",
    "version": 3
   },
   "file_extension": ".py",
   "mimetype": "text/x-python",
   "name": "python",
   "nbconvert_exporter": "python",
   "pygments_lexer": "ipython3",
   "version": "3.10.4"
  }
 },
 "nbformat": 4,
 "nbformat_minor": 4
}
