{
 "cells": [
  {
   "cell_type": "markdown",
   "metadata": {},
   "source": [
    "# Comprehensive optimization in NV center (multiparameter)"
   ]
  },
  {
   "cell_type": "markdown",
   "metadata": {},
   "source": [
    "This is the source codes for the example discussed in Sec. VII in Ref. [1].\n",
    "\n",
    "In the multiparameter scenario, the dynamics of electron and nuclear coupling in NV$^{-}$ can be expressed as\n",
    "\\begin{align}\n",
    "\\partial_t\\rho=-i[H_0+H_{\\mathrm{c}},\\rho]+\\frac{\\gamma}{2}(S_3\\rho S_3-S^2_3\\rho-\\rho S^2_3)\n",
    "\\end{align}\n",
    "\n",
    "with $\\gamma$ the dephasing rate. And\n",
    "\\begin{align}\n",
    "H_0/\\hbar=DS^2_3+g_{\\mathrm{S}}\\vec{B}\\cdot\\vec{S}+g_{\\mathrm{I}}\\vec{B}\\cdot\\vec{I}+\\vec{S}^{\\,\\mathrm{T}}\\mathcal{A}\\vec{I}\n",
    "\\end{align}\n",
    "\n",
    "is the free evolution Hamiltonian, where $\\vec{S}=(S_1,S_2,S_3)^{\\mathrm{T}}$ and $\\vec{I}=(I_1,I_2,I_3)^{\\mathrm{T}}$ with \n",
    "$S_i=s_i\\otimes I$ and $I_i=I\\otimes \\sigma_i$ ($i=1,2,3$) the electron and nuclear operators. $s_1, s_2, s_3$ are \n",
    "spin-1 operators with \n",
    "\n",
    "\\begin{align}\n",
    "s_1 = \\frac{1}{\\sqrt{2}}\\left(\\begin{array}{ccc}\n",
    "0 & 1 & 0 \\\\\n",
    "1 & 0 & 1 \\\\\n",
    "0 & 1 & 0\n",
    "\\end{array}\\right),\n",
    "s_2 = \\frac{1}{\\sqrt{2}}\\left(\\begin{array}{ccc}\n",
    "0 & -i & 0\\\\\n",
    "i & 0 & -i\\\\\n",
    "0 & i & 0\n",
    "\\end{array}\\right), \\nonumber\n",
    "\\end{align}\n",
    "\n",
    "and $s_3=\\mathrm{diag}(1,0,-1)$ and $\\sigma_i (i=1,2,3)$ is Pauli matrix. $\\mathcal{A}=\\mathrm{diag} (A_1,A_1,A_2)$ is the \n",
    "hyperfine tensor with $A_1$ and $A_2$ the axial and transverse magnetic hyperfine coupling coefficients.\n",
    "The coefficients $g_{\\mathrm{S}}=g_\\mathrm{e}\\mu_\\mathrm{B}/\\hbar$ and $g_{\\mathrm{I}}=g_\\mathrm{n}\\mu_\\mathrm{n}/\\hbar$,\n",
    "where $g_\\mathrm{e}$ ($g_\\mathrm{n}$) is the $g$ factor of the electron (nuclear), $\\mu_\\mathrm{B}$ ($\\mu_\\mathrm{n}$) is \n",
    "the Bohr (nuclear) magneton and $\\hbar$ is the reduced Plank's constant. $\\vec{B}$ is the magnetic field which be estimated. \n",
    "The control Hamiltonian is\n",
    "\\begin{align}\n",
    "H_{\\mathrm{c}}/\\hbar=\\sum^3_{i=1}\\Omega_i(t)S_i\n",
    "\\end{align}\n",
    "\n",
    "with $\\Omega_i(t)$ the time-dependent Rabi frequency.\n",
    "\n",
    "Here we consider two types of comprehensive optimization, the first one is optimization of probe state and control (SC), \n",
    "and the other is optimization of probe state, control and measurement (SCM). $\\mathrm{Tr}(W\\mathcal{F}^{-1})$ is taken as \n",
    "the target function for SC and $\\mathrm{Tr}(W\\mathcal{I}^{-1})$ for SCM. $W$ is set to be $I$.\n",
    "\n",
    "[1] M. Zhang et al., QuanEstimation: an open-source toolkit for quantum parameter estimation,\n",
    "arXiv:2205.15588."
   ]
  },
  {
   "cell_type": "code",
   "execution_count": null,
   "metadata": {},
   "outputs": [],
   "source": [
    "from quanestimation import *\n",
    "import numpy as np\n",
    "\n",
    "# initial state\n",
    "rho0 = np.zeros((6, 6), dtype=np.complex128)\n",
    "rho0[0][0], rho0[0][4], rho0[4][0], rho0[4][4] = 0.5, 0.5, 0.5, 0.5\n",
    "# free Hamiltonian\n",
    "sx = np.array([[0., 1.],[1., 0.]])\n",
    "sy = np.array([[0., -1.j],[1.j, 0.]]) \n",
    "sz = np.array([[1., 0.],[0., -1.]])\n",
    "ide2 = np.array([[1., 0.],[0., 1.]])\n",
    "s1 = np.array([[0., 1., 0.],[1., 0., 1.],[0., 1., 0.]])/np.sqrt(2)\n",
    "s2 = np.array([[0., -1.j, 0.],[1.j, 0., -1.j],[0., 1.j, 0.]])/np.sqrt(2)\n",
    "s3 = np.array([[1., 0., 0.],[0., 0., 0.],[0., 0., -1.]])\n",
    "ide3 = np.array([[1., 0., 0.],[0., 1., 0.],[0., 0., 1.]])\n",
    "I1, I2, I3 = np.kron(ide3, sx), np.kron(ide3, sy), np.kron(ide3, sz)\n",
    "S1, S2, S3 = np.kron(s1, ide2), np.kron(s2, ide2), np.kron(s3, ide2)\n",
    "B1, B2, B3 = 5.0e-4, 5.0e-4, 5.0e-4\n",
    "# All numbers are divided by 100 in this example \n",
    "# for better calculation accurancy\n",
    "cons = 100\n",
    "D = (2*np.pi*2.87*1000)/cons\n",
    "gS = (2*np.pi*28.03*1000)/cons\n",
    "gI = (2*np.pi*4.32)/cons\n",
    "A1 = (2*np.pi*3.65)/cons\n",
    "A2 = (2*np.pi*3.03)/cons\n",
    "H0 = D*np.kron(np.dot(s3, s3), ide2) + gS*(B1*S1+B2*S2+B3*S3) \\\n",
    "     + gI*(B1*I1+B2*I2+B3*I3) + A1*(np.kron(s1, sx) + np.kron(s2, sy)) \\\n",
    "     + A2*np.kron(s3, sz)\n",
    "# derivatives of the free Hamiltonian on B1, B2 and B3\n",
    "dH = [gS*S1+gI*I1, gS*S2+gI*I2, gS*S3+gI*I3]\n",
    "# control Hamiltonians \n",
    "Hc = [S1, S2, S3]\n",
    "# dissipation\n",
    "decay = [[S3,2*np.pi/cons]]  \n",
    "# measurement\n",
    "dim = len(rho0)\n",
    "M_num = dim\n",
    "M = [np.dot(basis(dim, i), basis(dim, i).conj().T) for i in range(dim)]\n",
    "# time length for the evolution\n",
    "tspan = np.linspace(0., 2., 4000)\n",
    "# guessed control coefficients\n",
    "cnum = 10\n",
    "ctrl0 = -0.2*np.ones((len(Hc), cnum))"
   ]
  },
  {
   "cell_type": "markdown",
   "metadata": {},
   "source": [
    "## State and measurement optimization"
   ]
  },
  {
   "cell_type": "code",
   "execution_count": null,
   "metadata": {},
   "outputs": [],
   "source": [
    "# comprehensive optimization algorithm: DE\n",
    "DE_paras = {\"p_num\":10, \"psi0\":[], \"ctrl0\":[], \"measurement0\":[], \\\n",
    "            \"max_episode\":1000, \"c\":1.0, \"cr\":0.5, \"seed\":1234}\n",
    "com = ComprehensiveOpt(savefile=False, method=\"DE\", **DE_paras)\n",
    "com.dynamics(tspan, H0, dH, decay=decay, dyn_method=\"expm\")\n",
    "com.SM()\n",
    "# # load the measurements\n",
    "M = np.load(\"measurements.npy\")[-1]\n",
    "\n",
    "# # comprehensive optimization algorithm: PSO\n",
    "# PSO_paras = {\"p_num\":10, \"psi0\":[], \"ctrl0\":[], \\\n",
    "#              \"measurement0\":[], \"max_episode\":[1000,100], \"c0\":1.0, \\\n",
    "#              \"c1\":2.0, \"c2\":2.0, \"seed\":1234}\n",
    "# com = ComprehensiveOpt(savefile=False, method=\"PSO\", **PSO_paras)\n",
    "# com.dynamics(tspan, H0, dH, decay=decay, dyn_method=\"expm\")\n",
    "# com.SM()\n",
    "# # load the measurements\n",
    "# M = np.load(\"measurements.npy\")[-1]"
   ]
  },
  {
   "cell_type": "markdown",
   "metadata": {},
   "source": [
    "## State and control optimization"
   ]
  },
  {
   "cell_type": "code",
   "execution_count": null,
   "metadata": {},
   "outputs": [],
   "source": [
    "# comprehensive optimization algorithm: DE\n",
    "DE_paras = {\"p_num\":10, \"psi0\":[], \"ctrl0\":[ctrl0], \"measurement0\":[], \\\n",
    "            \"max_episode\":1000, \"c\":1.0, \"cr\":0.5, \"seed\":1234}\n",
    "com = ComprehensiveOpt(savefile=False, method=\"DE\", **DE_paras)\n",
    "com.dynamics(tspan, H0, dH, Hc=Hc, decay=decay, ctrl_bound=[-0.2, 0.2], dyn_method=\"expm\")\n",
    "com.SC(W=[], target=\"QFIM\", LDtype=\"SLD\")\n",
    "\n",
    "# # comprehensive optimization algorithm: PSO\n",
    "# PSO_paras = {\"p_num\":10, \"psi0\":[], \"ctrl0\":[ctrl0], \\\n",
    "#              \"measurement0\":[], \"max_episode\":[1000,100], \"c0\":1.0, \\\n",
    "#              \"c1\":2.0, \"c2\":2.0, \"seed\":1234}\n",
    "# com = ComprehensiveOpt(savefile=False, method=\"PSO\", **PSO_paras)\n",
    "# com.dynamics(tspan, H0, dH, Hc=Hc, decay=decay, ctrl_bound=[-0.2, 0.2], dyn_method=\"expm\")\n",
    "# com.SC(W=[], target=\"QFIM\", LDtype=\"SLD\")\n",
    "\n",
    "# # comprehensive optimization algorithm: AD\n",
    "# AD_paras = {\"Adam\":False, \"psi0\":[], \"ctrl0\":[ctrl0], \"measurement0\":[], \\\n",
    "#             \"max_episode\":300, \"epsilon\":0.01, \"beta1\":0.90, \"beta2\":0.99}\n",
    "# com = ComprehensiveOpt(savefile=False, method=\"AD\", **AD_paras)\n",
    "# com.dynamics(tspan, H0, dH, Hc=Hc, decay=decay, ctrl_bound=[-0.2, 0.2], dyn_method=\"expm\")\n",
    "# com.SC(W=[], target=\"QFIM\", LDtype=\"SLD\")"
   ]
  },
  {
   "cell_type": "markdown",
   "metadata": {},
   "source": [
    "## Control and measurement optimization"
   ]
  },
  {
   "cell_type": "code",
   "execution_count": 4,
   "metadata": {},
   "outputs": [],
   "source": [
    "# comprehensive optimization algorithm: DE\n",
    "DE_paras = {\"p_num\":10, \"psi0\":[], \"ctrl0\":[], \"measurement0\":[], \\\n",
    "            \"max_episode\":1000, \"c\":1.0, \"cr\":0.5, \"seed\":1234}\n",
    "com = ComprehensiveOpt(savefile=False, method=\"DE\", **DE_paras)\n",
    "com.dynamics(tspan, H0, dH, Hc=Hc, decay=decay, ctrl_bound=[-0.2, 0.2], dyn_method=\"expm\")\n",
    "com.CM(rho0)\n",
    "\n",
    "# # load the measurements\n",
    "M = np.load(\"measurements.npy\")[-1]\n",
    "\n",
    "# # comprehensive optimization algorithm: PSO\n",
    "# PSO_paras = {\"p_num\":10, \"psi0\":[], \"ctrl0\":[], \\\n",
    "#              \"measurement0\":[], \"max_episode\":[1000,100], \"c0\":1.0, \\\n",
    "#              \"c1\":2.0, \"c2\":2.0, \"seed\":1234}\n",
    "# com = ComprehensiveOpt(savefile=False, method=\"PSO\", **PSO_paras)\n",
    "# com.dynamics(tspan, H0, dH, Hc=Hc, decay=decay, ctrl_bound=[-0.2, 0.2], dyn_method=\"expm\")\n",
    "# com.CM(rho0)\n",
    "# # load the measurements\n",
    "# M = np.load(\"measurements.npy\")[-1]"
   ]
  },
  {
   "cell_type": "markdown",
   "metadata": {},
   "source": [
    "## State, control and measurement optimization"
   ]
  },
  {
   "cell_type": "code",
   "execution_count": null,
   "metadata": {},
   "outputs": [],
   "source": [
    "# comprehensive optimization algorithm: DE\n",
    "DE_paras = {\"p_num\":10, \"psi0\":[], \"ctrl0\":[], \"measurement0\":[], \\\n",
    "            \"max_episode\":1000, \"c\":1.0, \"cr\":0.5, \"seed\":1234}\n",
    "com = ComprehensiveOpt(savefile=False, method=\"DE\", **DE_paras)\n",
    "com.dynamics(tspan, H0, dH, Hc=Hc, decay=decay, ctrl_bound=[-0.2, 0.2], dyn_method=\"expm\")\n",
    "com.SCM()\n",
    "# convert the \".csv\" file to the \".npy\" file\n",
    "M_ = np.loadtxt(\"measurements.csv\", dtype=np.complex128)\n",
    "csv2npy_measurements(M_, M_num)\n",
    "        # load the measurements\n",
    "M = np.load(\"measurements.npy\")[-1]\n",
    "\n",
    "# # comprehensive optimization algorithm: PSO\n",
    "# PSO_paras = {\"p_num\":10, \"psi0\":[], \"ctrl0\":[], \\\n",
    "#              \"measurement0\":[], \"max_episode\":[1000,100], \"c0\":1.0, \\\n",
    "#              \"c1\":2.0, \"c2\":2.0, \"seed\":1234}\n",
    "# com = ComprehensiveOpt(savefile=False, method=\"PSO\", **PSO_paras)\n",
    "# com.dynamics(tspan, H0, dH, Hc=Hc, decay=decay, ctrl_bound=[-0.2, 0.2], dyn_method=\"expm\")\n",
    "# com.SCM()\n",
    "# # load the measurements\n",
    "# M = np.load(\"measurements.npy\")[-1]"
   ]
  }
 ],
 "metadata": {
  "kernelspec": {
   "display_name": "Python 3.7.6 ('base')",
   "language": "python",
   "name": "python3"
  },
  "language_info": {
   "codemirror_mode": {
    "name": "ipython",
    "version": 3
   },
   "file_extension": ".py",
   "mimetype": "text/x-python",
   "name": "python",
   "nbconvert_exporter": "python",
   "pygments_lexer": "ipython3",
   "version": "3.7.6"
  },
  "vscode": {
   "interpreter": {
    "hash": "ad2bdc8ecc057115af97d19610ffacc2b4e99fae6737bb82f5d7fb13d2f2c186"
   }
  }
 },
 "nbformat": 4,
 "nbformat_minor": 4
}
