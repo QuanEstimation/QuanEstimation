{
 "cells": [
  {
   "cell_type": "markdown",
   "metadata": {},
   "source": [
    "# Calculation of CFIM, QFIM and HCRB"
   ]
  },
  {
   "cell_type": "markdown",
   "metadata": {},
   "source": [
    "This is the source codes for the example discussed in Sec. III A and B in Ref. [1].\n",
    "\n",
    "The Hamiltonian of a two-qubit system with $XX$ coupling is \n",
    "\\begin{align}\n",
    "H=\\omega_1\\sigma_3^{(1)}+\\omega_2\\sigma_3^{(2)}+g\\sigma_1^{(1)}\\sigma_1^{(2)},\n",
    "\\end{align}\n",
    "\n",
    "where $\\omega_1$, $\\omega_2$ are the frequencies of the first and second qubit, $\\sigma_i^{(1)}=\n",
    "\\sigma_i\\otimes I$ and $\\sigma_i^{(2)}=I\\otimes\\sigma_i$ for $i=1,2,3$. $\\sigma_1$, $\\sigma_2$, $\\sigma_3$ \n",
    "are Pauli matrices and $I$ denotes the identity matrix. The dynamics is described by the master equation \n",
    "\\begin{align}\n",
    "\\partial_t\\rho=-i[H, \\rho]+\\sum_{i=1,2}\\gamma_i\\left(\\sigma_3^{(i)}\\rho\\sigma_3^{(i)}-\\rho\\right)\n",
    "\\end{align}\n",
    "\n",
    "with $\\gamma_i$ the decay rate for the $i$th qubit.\n",
    "\n",
    "The probe state is taken as $\\frac{1}{\\sqrt{2}}(|00\\rangle+|11\\rangle)$ and the weight matrix is set to be\n",
    "identity. The measurement for $\\mathrm{Tr}(W\\mathcal{I^{-1}})$ is $\\{\\Pi_1$, $\\Pi_2$, $I-\\Pi_1-\\Pi_2\\}$ \n",
    "with $\\Pi_1=0.85|00\\rangle\\langle 00|$ and $\\Pi_2=0.1|\\!+\\!+\\rangle\\langle+\\!+\\!|$. Here \n",
    "$|\\pm\\rangle:=\\frac{1}{\\sqrt{2}}(|0\\rangle\\pm|1\\rangle)$ with $|0\\rangle$ $(|1\\rangle)$ the eigenstate of \n",
    "$\\sigma_3$ with respect to the eigenvalue $1$ ($-1$).\n",
    "\n",
    "[1] M. Zhang et al., QuanEstimation: an open-source toolkit for quantum parameter estimation,\n",
    "arXiv:2022.xxxx."
   ]
  },
  {
   "cell_type": "code",
   "execution_count": null,
   "metadata": {},
   "outputs": [],
   "source": [
    "from quanestimation import *\n",
    "import numpy as np\n",
    "\n",
    "# initial state\n",
    "psi0 = np.array([1., 0., 0., 1.])/np.sqrt(2)\n",
    "rho0 = np.dot(psi0.reshape(-1,1), psi0.reshape(1,-1).conj())\n",
    "# free Hamiltonian\n",
    "omega1, omega2, g = 1.0, 1.0, 0.1\n",
    "sx = np.array([[0., 1.], [1., 0.]])\n",
    "sy = np.array([[0., -1.j], [1.j, 0.]]) \n",
    "sz = np.array([[1., 0.], [0., -1.]])\n",
    "ide = np.array([[1., 0.], [0., 1.]])   \n",
    "H0 = omega1*np.kron(sz, ide)+omega2*np.kron(ide, sz)+g*np.kron(sx, sx)\n",
    "# derivatives of the free Hamiltonian on omega2 and g\n",
    "dH = [np.kron(ide, sz), np.kron(sx, sx)] \n",
    "# dissipation\n",
    "decay = [[np.kron(sz,ide), 0.05], [np.kron(ide,sz), 0.05]]\n",
    "# measurement\n",
    "m1 = np.array([1., 0., 0., 0.])\n",
    "M1 = 0.85*np.dot(m1.reshape(-1,1), m1.reshape(1,-1).conj())\n",
    "M2 = 0.1*np.ones((4, 4))\n",
    "M = [M1, M2, np.identity(4)-M1-M2]\n",
    "# time length for the evolution\n",
    "tspan = np.linspace(0., 10., 1000)\n",
    "# dynamics\n",
    "dynamics = Lindblad(tspan, rho0, H0, dH, decay)\n",
    "rho, drho = dynamics.expm()\n",
    "# weight matrix\n",
    "W = np.identity(2)\n",
    "# calculation of the CFIM, QFIM and HCRB\n",
    "F, I, f_HCRB, f_NHB = [], [], [], []\n",
    "for ti in range(1, 1000):\n",
    "    # CFIM\n",
    "    I_tp = CFIM(rho[ti], drho[ti], M=M)\n",
    "    I.append(I_tp)\n",
    "    # QFIM\n",
    "    F_tp = QFIM(rho[ti], drho[ti])\n",
    "    F.append(F_tp)\n",
    "    # HCRB\n",
    "    f_tp1 = HCRB(rho[ti], drho[ti], W, eps=1e-6)\n",
    "    f_HCRB.append(f_tp1)\n",
    "    # NHB\n",
    "    f_tp2 = NHB(rho[ti], drho[ti], W)\n",
    "    f_NHB.append(f_tp2)"
   ]
  }
 ],
 "metadata": {
  "interpreter": {
   "hash": "949777d72b0d2535278d3dc13498b2535136f6dfe0678499012e853ee9abcab1"
  },
  "kernelspec": {
   "display_name": "Python 3.10.2 64-bit",
   "language": "python",
   "name": "python3"
  },
  "language_info": {
   "codemirror_mode": {
    "name": "ipython",
    "version": 3
   },
   "file_extension": ".py",
   "mimetype": "text/x-python",
   "name": "python",
   "nbconvert_exporter": "python",
   "pygments_lexer": "ipython3",
   "version": "3.10.2"
  }
 },
 "nbformat": 4,
 "nbformat_minor": 4
}
