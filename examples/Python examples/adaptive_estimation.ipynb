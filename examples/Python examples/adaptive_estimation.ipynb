{
 "cells": [
  {
   "cell_type": "code",
   "execution_count": 5,
   "metadata": {},
   "outputs": [],
   "source": [
    "from quanestimation import *\n",
    "import numpy as np\n",
    "import random\n",
    "\n",
    "# initial state\n",
    "rho0 = 0.5 * np.array([[1., 1.], [1., 1.]])\n",
    "# free Hamiltonian\n",
    "B, omega0 = 0.5 * np.pi, 1.0\n",
    "sx = np.array([[0., 1.], [1., 0.]])\n",
    "sy = np.array([[0., -1.j], [1.j, 0.]]) \n",
    "sz = np.array([[1., 0.], [0., -1.]])\n",
    "H0_func = lambda x: 0.5*B*omega0*(sx*np.cos(x[0])+sz*np.sin(x[0]))\n",
    "# derivative of free Hamiltonian in x\n",
    "dH_func = lambda x: [0.5*B*omega0*(-sx*np.sin(x[0])+sz*np.cos(x[0]))]\n",
    "# measurement\n",
    "M1 = 0.5*np.array([[1., 1.], [1., 1.]])\n",
    "M2 = 0.5*np.array([[1., -1.], [-1., 1.]])\n",
    "M = [M1, M2]\n",
    "# time length for the evolution\n",
    "tspan = np.linspace(0., 1., 1000)\n",
    "# prior distribution\n",
    "x = np.linspace(-0.25*np.pi+0.1, 3.0*np.pi/4.0-0.1, 1000)\n",
    "p = (1.0/(x[-1]-x[0]))*np.ones(len(x))\n",
    "# dynamics\n",
    "rho = [np.zeros((len(rho0), len(rho0)), dtype=np.complex128) for \\\n",
    "       i in range(len(x))]\n",
    "for xi in range(len(x)):\n",
    "    H_tp = H0_func([x[xi]])\n",
    "    dH_tp = dH_func([x[xi]])\n",
    "    dynamics = Lindblad(tspan, rho0, H_tp, dH_tp)\n",
    "    rho_tp, drho_tp = dynamics.expm()\n",
    "    rho[xi] = rho_tp[-1]\n",
    "\n",
    "# # Bayesian estimation\n",
    "random.seed(1234)\n",
    "y = [0 for i in range(500)]\n",
    "res_rand = random.sample(range(0, len(y)), 125)\n",
    "for i in range(len(res_rand)):\n",
    "    y[res_rand[i]] = 1\n",
    "pout, xout = Bayes([x], p, rho, y, M=M, estimator=\"MAP\", savefile=True)\n",
    "\n",
    "# generation of H and dH\n",
    "H, dH = BayesInput([x], H0_func, dH_func, channel=\"dynamics\")\n",
    "# adaptive measurement\n",
    "apt = Adapt([x], pout, rho0, savefile=False, max_episode=100, eps=1e-8)\n",
    "apt.dynamics(tspan, H, dH)\n",
    "apt.CFIM(M=M, W=[])\n"
   ]
  }
 ],
 "metadata": {
  "interpreter": {
   "hash": "949777d72b0d2535278d3dc13498b2535136f6dfe0678499012e853ee9abcab1"
  },
  "kernelspec": {
   "display_name": "Python 3 (ipykernel)",
   "language": "python",
   "name": "python3"
  },
  "language_info": {
   "codemirror_mode": {
    "name": "ipython",
    "version": 3
   },
   "file_extension": ".py",
   "mimetype": "text/x-python",
   "name": "python",
   "nbconvert_exporter": "python",
   "pygments_lexer": "ipython3",
   "version": "3.10.4"
  }
 },
 "nbformat": 4,
 "nbformat_minor": 4
}
