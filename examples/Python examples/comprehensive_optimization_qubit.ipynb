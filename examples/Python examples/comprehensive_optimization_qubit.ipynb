{
 "cells": [
  {
   "cell_type": "markdown",
   "metadata": {},
   "source": [
    "# Comprehensive optimization in single qubit system (single parameter)"
   ]
  },
  {
   "cell_type": "markdown",
   "metadata": {},
   "source": [
    "This is the source codes for the example discussed in Sec. VII in Ref. [1].\n",
    "\n",
    "A single qubit system whose free evolution Hamiltonian is $H_0 = \\frac{1}{2}\\omega \\sigma_3$ with \n",
    "$\\omega$ the frequency and $\\sigma_3$ a Pauli matrix. The dynamics of the system is governed by\n",
    "\\begin{align}\n",
    "\\partial_t\\rho=-i[H_0, \\rho]+ \\gamma_{+}\\left(\\sigma_{+}\\rho\\sigma_{-}-\\frac{1}{2}\\{\\sigma_{-}\\sigma_{+},\\rho\\}\\right)+ \\gamma_{-}\\left(\\sigma_{-}\\rho\\sigma_{+}-\\frac{1}{2}\\{\\sigma_{+}\\sigma_{-},\\rho\\}\\right),\n",
    "\\end{align}\n",
    "\n",
    "where $\\gamma_{+}$, $\\gamma_{-}$ are decay rates and $\\sigma_{\\pm}=(\\sigma_1 \\pm \\sigma_2)/2$. The control Hamiltonian\n",
    "\\begin{align}\n",
    "H_\\mathrm{c}=u_1(t)\\sigma_1+u_2(t)\\sigma_2+u_3(t)\\sigma_3\n",
    "\\end{align}\n",
    "\n",
    "with $u_i(t)$ $(i=1,2,3)$ the control field. Here $\\sigma_{1}$, $\\sigma_{2}$ are also Pauli matrices.\n",
    "\n",
    "In this case, we consider two types of comprehensive optimization, the first one is optimization of probe state and control (SC), and the other is optimization of probe state, control and measurement (SCM). QFI is taken as the target function for SC and CFI for SCM.\n",
    "\n",
    "[1] M. Zhang et al., QuanEstimation: an open-source toolkit for quantum parameter estimation,\n",
    "arXiv:2205.15588."
   ]
  },
  {
   "cell_type": "code",
   "execution_count": 1,
   "metadata": {},
   "outputs": [],
   "source": [
    "from quanestimation import *\n",
    "import numpy as np\n",
    "\n",
    "# initial state\n",
    "rho0 = 0.5*np.array([[1., 1.], [1., 1.]])\n",
    "# free Hamiltonian\n",
    "omega = 1.0\n",
    "sx = np.array([[0., 1.], [1., 0.]])\n",
    "sy = np.array([[0., -1.j], [1.j, 0.]]) \n",
    "sz = np.array([[1., 0.], [0., -1.]])\n",
    "H0 = 0.5*omega*sz\n",
    "# derivative of the free Hamiltonian on omega\n",
    "dH = [0.5*sz]\n",
    "# control Hamiltonians \n",
    "Hc = [sx,sy,sz]\n",
    "# dissipation\n",
    "sp = np.array([[0., 1.], [0., 0.]])  \n",
    "sm = np.array([[0., 0.], [1., 0.]]) \n",
    "decay = [[sp, 0.], [sm, 0.1]]\n",
    "# measurement\n",
    "M1 = 0.5*np.array([[1., 1.], [1., 1.]])\n",
    "M2 = 0.5*np.array([[1., -1.], [-1., 1.]])\n",
    "M = [M1, M2]\n",
    "M_num = 2\n",
    "# time length for the evolution\n",
    "tspan = np.linspace(0., 10., 2500)"
   ]
  },
  {
   "cell_type": "markdown",
   "metadata": {},
   "source": [
    "## State and measurement optimization"
   ]
  },
  {
   "cell_type": "code",
   "execution_count": 4,
   "metadata": {},
   "outputs": [
    {
     "name": "stdout",
     "output_type": "stream",
     "text": [
      "comprehensive optimization\n",
      "single parameter scenario\n",
      "optimization algorithm: Differential Evolution (DE)\n",
      "initial value of CFI is 3.201657\n",
      "\u001b[2KIteration over, data saved.44 (999 episodes)\n",
      "Final value of CFI is 36.787944\n"
     ]
    }
   ],
   "source": [
    "# comprehensive optimization algorithm: DE\n",
    "DE_paras = {\"p_num\":10, \"psi0\":[], \"ctrl0\":[], \"measurement0\":[], \\\n",
    "            \"max_episode\":1000, \"c\":1.0, \"cr\":0.5, \"seed\":1234}\n",
    "com = ComprehensiveOpt(savefile=False, method=\"DE\", **DE_paras)\n",
    "com.dynamics(tspan, H0, dH, decay=decay, dyn_method=\"expm\")\n",
    "com.SM()\n",
    "\n",
    "# load the measurements\n",
    "M = np.load(\"measurements.npy\")[-1]\n",
    "\n",
    "# # comprehensive optimization algorithm: PSO\n",
    "# PSO_paras = {\"p_num\":10, \"psi0\":[], \"ctrl0\":[], \\\n",
    "#              \"measurement0\":[], \"max_episode\":[1000,100], \"c0\":1.0, \\\n",
    "#              \"c1\":2.0, \"c2\":2.0, \"seed\":1234}\n",
    "# com = ComprehensiveOpt(savefile=False, method=\"PSO\", **PSO_paras)\n",
    "# com.dynamics(tspan, H0, dH, decay=decay, dyn_method=\"expm\")\n",
    "# com.SM()\n",
    "# # load the measurements\n",
    "# M = np.load(\"measurements.npy\")[-1]"
   ]
  },
  {
   "cell_type": "markdown",
   "metadata": {},
   "source": [
    "## State and control optimization"
   ]
  },
  {
   "cell_type": "code",
   "execution_count": 2,
   "metadata": {},
   "outputs": [
    {
     "name": "stdout",
     "output_type": "stream",
     "text": [
      "comprehensive optimization\n",
      "single parameter scenario\n",
      "optimization algorithm: Automatic Differentiation (AD)\n",
      "non-controlled value of QFI is 17.233383\n",
      "initial value of QFI is 26.076300\n",
      "\u001b[2KIteration over, data saved.66 (299 episodes)\n",
      "Final value of QFI is 44.751166\n"
     ]
    }
   ],
   "source": [
    "# comprehensive optimization algorithm: AD\n",
    "AD_paras = {\"Adam\":False, \"psi0\":[], \"ctrl0\":[], \"measurement0\":[], \\\n",
    "            \"max_episode\":300, \"epsilon\":0.01, \"beta1\":0.90, \"beta2\":0.99}\n",
    "com = ComprehensiveOpt(savefile=False, method=\"AD\", **AD_paras)\n",
    "com.dynamics(tspan, H0, dH, Hc=Hc, decay=decay, ctrl_bound=[-2.0,2.0], dyn_method=\"expm\")\n",
    "com.SC(W=[], target=\"QFIM\", LDtype=\"SLD\")\n",
    "\n",
    "# # comprehensive optimization algorithm: DE\n",
    "# DE_paras = {\"p_num\":10, \"psi0\":[], \"ctrl0\":[], \"measurement0\":[], \\\n",
    "#             \"max_episode\":1000, \"c\":1.0, \"cr\":0.5, \"seed\":1234}\n",
    "# com = ComprehensiveOpt(savefile=False, method=\"DE\", **DE_paras)\n",
    "# com.dynamics(tspan, H0, dH, Hc=Hc, decay=decay, ctrl_bound=[-2.0,2.0], dyn_method=\"expm\")\n",
    "# com.SC(W=[], target=\"QFIM\", LDtype=\"SLD\")\n",
    "\n",
    "# # comprehensive optimization algorithm: PSO\n",
    "# PSO_paras = {\"p_num\":10, \"psi0\":[], \"ctrl0\":[], \\\n",
    "#              \"measurement0\":[], \"max_episode\":[1000,100], \"c0\":1.0, \\\n",
    "#              \"c1\":2.0, \"c2\":2.0, \"seed\":1234}\n",
    "# com = ComprehensiveOpt(savefile=False, method=\"PSO\", **PSO_paras)\n",
    "# com.dynamics(tspan, H0, dH, Hc=Hc, decay=decay, ctrl_bound=[-2.0,2.0], dyn_method=\"expm\")\n",
    "# com.SC(W=[], M=M, target=\"CFIM\")"
   ]
  },
  {
   "cell_type": "markdown",
   "metadata": {},
   "source": [
    "## control and measurement optimization"
   ]
  },
  {
   "cell_type": "code",
   "execution_count": 3,
   "metadata": {},
   "outputs": [
    {
     "name": "stdout",
     "output_type": "stream",
     "text": [
      "comprehensive optimization\n",
      "single parameter scenario\n",
      "optimization algorithm: Differential Evolution (DE)\n",
      "initial value of CFI is 10.460080\n",
      "\u001b[2KIteration over, data saved.53 (999 episodes)\n",
      "Final value of CFI is 43.443153\n"
     ]
    },
    {
     "ename": "FileNotFoundError",
     "evalue": "measurements.csv not found.",
     "output_type": "error",
     "traceback": [
      "\u001b[0;31m---------------------------------------------------------------------------\u001b[0m",
      "\u001b[0;31mFileNotFoundError\u001b[0m                         Traceback (most recent call last)",
      "Cell \u001b[0;32mIn[3], line 8\u001b[0m\n\u001b[1;32m      6\u001b[0m com\u001b[38;5;241m.\u001b[39mCM(rho0)\n\u001b[1;32m      7\u001b[0m \u001b[38;5;66;03m# convert the \".csv\" file to the \".npy\" file\u001b[39;00m\n\u001b[0;32m----> 8\u001b[0m M_ \u001b[38;5;241m=\u001b[39m \u001b[43mnp\u001b[49m\u001b[38;5;241;43m.\u001b[39;49m\u001b[43mloadtxt\u001b[49m\u001b[43m(\u001b[49m\u001b[38;5;124;43m\"\u001b[39;49m\u001b[38;5;124;43mmeasurements.csv\u001b[39;49m\u001b[38;5;124;43m\"\u001b[39;49m\u001b[43m,\u001b[49m\u001b[43m \u001b[49m\u001b[43mdtype\u001b[49m\u001b[38;5;241;43m=\u001b[39;49m\u001b[43mnp\u001b[49m\u001b[38;5;241;43m.\u001b[39;49m\u001b[43mcomplex128\u001b[49m\u001b[43m)\u001b[49m\n\u001b[1;32m      9\u001b[0m csv2npy_measurements(M_, M_num)\n\u001b[1;32m     10\u001b[0m         \u001b[38;5;66;03m# load the measurements\u001b[39;00m\n",
      "File \u001b[0;32m~/miniconda/envs/qst/lib/python3.11/site-packages/numpy/lib/npyio.py:1373\u001b[0m, in \u001b[0;36mloadtxt\u001b[0;34m(fname, dtype, comments, delimiter, converters, skiprows, usecols, unpack, ndmin, encoding, max_rows, quotechar, like)\u001b[0m\n\u001b[1;32m   1370\u001b[0m \u001b[38;5;28;01mif\u001b[39;00m \u001b[38;5;28misinstance\u001b[39m(delimiter, \u001b[38;5;28mbytes\u001b[39m):\n\u001b[1;32m   1371\u001b[0m     delimiter \u001b[38;5;241m=\u001b[39m delimiter\u001b[38;5;241m.\u001b[39mdecode(\u001b[38;5;124m'\u001b[39m\u001b[38;5;124mlatin1\u001b[39m\u001b[38;5;124m'\u001b[39m)\n\u001b[0;32m-> 1373\u001b[0m arr \u001b[38;5;241m=\u001b[39m \u001b[43m_read\u001b[49m\u001b[43m(\u001b[49m\u001b[43mfname\u001b[49m\u001b[43m,\u001b[49m\u001b[43m \u001b[49m\u001b[43mdtype\u001b[49m\u001b[38;5;241;43m=\u001b[39;49m\u001b[43mdtype\u001b[49m\u001b[43m,\u001b[49m\u001b[43m \u001b[49m\u001b[43mcomment\u001b[49m\u001b[38;5;241;43m=\u001b[39;49m\u001b[43mcomment\u001b[49m\u001b[43m,\u001b[49m\u001b[43m \u001b[49m\u001b[43mdelimiter\u001b[49m\u001b[38;5;241;43m=\u001b[39;49m\u001b[43mdelimiter\u001b[49m\u001b[43m,\u001b[49m\n\u001b[1;32m   1374\u001b[0m \u001b[43m            \u001b[49m\u001b[43mconverters\u001b[49m\u001b[38;5;241;43m=\u001b[39;49m\u001b[43mconverters\u001b[49m\u001b[43m,\u001b[49m\u001b[43m \u001b[49m\u001b[43mskiplines\u001b[49m\u001b[38;5;241;43m=\u001b[39;49m\u001b[43mskiprows\u001b[49m\u001b[43m,\u001b[49m\u001b[43m \u001b[49m\u001b[43musecols\u001b[49m\u001b[38;5;241;43m=\u001b[39;49m\u001b[43musecols\u001b[49m\u001b[43m,\u001b[49m\n\u001b[1;32m   1375\u001b[0m \u001b[43m            \u001b[49m\u001b[43munpack\u001b[49m\u001b[38;5;241;43m=\u001b[39;49m\u001b[43munpack\u001b[49m\u001b[43m,\u001b[49m\u001b[43m \u001b[49m\u001b[43mndmin\u001b[49m\u001b[38;5;241;43m=\u001b[39;49m\u001b[43mndmin\u001b[49m\u001b[43m,\u001b[49m\u001b[43m \u001b[49m\u001b[43mencoding\u001b[49m\u001b[38;5;241;43m=\u001b[39;49m\u001b[43mencoding\u001b[49m\u001b[43m,\u001b[49m\n\u001b[1;32m   1376\u001b[0m \u001b[43m            \u001b[49m\u001b[43mmax_rows\u001b[49m\u001b[38;5;241;43m=\u001b[39;49m\u001b[43mmax_rows\u001b[49m\u001b[43m,\u001b[49m\u001b[43m \u001b[49m\u001b[43mquote\u001b[49m\u001b[38;5;241;43m=\u001b[39;49m\u001b[43mquotechar\u001b[49m\u001b[43m)\u001b[49m\n\u001b[1;32m   1378\u001b[0m \u001b[38;5;28;01mreturn\u001b[39;00m arr\n",
      "File \u001b[0;32m~/miniconda/envs/qst/lib/python3.11/site-packages/numpy/lib/npyio.py:992\u001b[0m, in \u001b[0;36m_read\u001b[0;34m(fname, delimiter, comment, quote, imaginary_unit, usecols, skiplines, max_rows, converters, ndmin, unpack, dtype, encoding)\u001b[0m\n\u001b[1;32m    990\u001b[0m     fname \u001b[38;5;241m=\u001b[39m os\u001b[38;5;241m.\u001b[39mfspath(fname)\n\u001b[1;32m    991\u001b[0m \u001b[38;5;28;01mif\u001b[39;00m \u001b[38;5;28misinstance\u001b[39m(fname, \u001b[38;5;28mstr\u001b[39m):\n\u001b[0;32m--> 992\u001b[0m     fh \u001b[38;5;241m=\u001b[39m \u001b[43mnp\u001b[49m\u001b[38;5;241;43m.\u001b[39;49m\u001b[43mlib\u001b[49m\u001b[38;5;241;43m.\u001b[39;49m\u001b[43m_datasource\u001b[49m\u001b[38;5;241;43m.\u001b[39;49m\u001b[43mopen\u001b[49m\u001b[43m(\u001b[49m\u001b[43mfname\u001b[49m\u001b[43m,\u001b[49m\u001b[43m \u001b[49m\u001b[38;5;124;43m'\u001b[39;49m\u001b[38;5;124;43mrt\u001b[39;49m\u001b[38;5;124;43m'\u001b[39;49m\u001b[43m,\u001b[49m\u001b[43m \u001b[49m\u001b[43mencoding\u001b[49m\u001b[38;5;241;43m=\u001b[39;49m\u001b[43mencoding\u001b[49m\u001b[43m)\u001b[49m\n\u001b[1;32m    993\u001b[0m     \u001b[38;5;28;01mif\u001b[39;00m encoding \u001b[38;5;129;01mis\u001b[39;00m \u001b[38;5;28;01mNone\u001b[39;00m:\n\u001b[1;32m    994\u001b[0m         encoding \u001b[38;5;241m=\u001b[39m \u001b[38;5;28mgetattr\u001b[39m(fh, \u001b[38;5;124m'\u001b[39m\u001b[38;5;124mencoding\u001b[39m\u001b[38;5;124m'\u001b[39m, \u001b[38;5;124m'\u001b[39m\u001b[38;5;124mlatin1\u001b[39m\u001b[38;5;124m'\u001b[39m)\n",
      "File \u001b[0;32m~/miniconda/envs/qst/lib/python3.11/site-packages/numpy/lib/_datasource.py:193\u001b[0m, in \u001b[0;36mopen\u001b[0;34m(path, mode, destpath, encoding, newline)\u001b[0m\n\u001b[1;32m    156\u001b[0m \u001b[38;5;250m\u001b[39m\u001b[38;5;124;03m\"\"\"\u001b[39;00m\n\u001b[1;32m    157\u001b[0m \u001b[38;5;124;03mOpen `path` with `mode` and return the file object.\u001b[39;00m\n\u001b[1;32m    158\u001b[0m \n\u001b[0;32m   (...)\u001b[0m\n\u001b[1;32m    189\u001b[0m \n\u001b[1;32m    190\u001b[0m \u001b[38;5;124;03m\"\"\"\u001b[39;00m\n\u001b[1;32m    192\u001b[0m ds \u001b[38;5;241m=\u001b[39m DataSource(destpath)\n\u001b[0;32m--> 193\u001b[0m \u001b[38;5;28;01mreturn\u001b[39;00m \u001b[43mds\u001b[49m\u001b[38;5;241;43m.\u001b[39;49m\u001b[43mopen\u001b[49m\u001b[43m(\u001b[49m\u001b[43mpath\u001b[49m\u001b[43m,\u001b[49m\u001b[43m \u001b[49m\u001b[43mmode\u001b[49m\u001b[43m,\u001b[49m\u001b[43m \u001b[49m\u001b[43mencoding\u001b[49m\u001b[38;5;241;43m=\u001b[39;49m\u001b[43mencoding\u001b[49m\u001b[43m,\u001b[49m\u001b[43m \u001b[49m\u001b[43mnewline\u001b[49m\u001b[38;5;241;43m=\u001b[39;49m\u001b[43mnewline\u001b[49m\u001b[43m)\u001b[49m\n",
      "File \u001b[0;32m~/miniconda/envs/qst/lib/python3.11/site-packages/numpy/lib/_datasource.py:533\u001b[0m, in \u001b[0;36mDataSource.open\u001b[0;34m(self, path, mode, encoding, newline)\u001b[0m\n\u001b[1;32m    530\u001b[0m     \u001b[38;5;28;01mreturn\u001b[39;00m _file_openers[ext](found, mode\u001b[38;5;241m=\u001b[39mmode,\n\u001b[1;32m    531\u001b[0m                               encoding\u001b[38;5;241m=\u001b[39mencoding, newline\u001b[38;5;241m=\u001b[39mnewline)\n\u001b[1;32m    532\u001b[0m \u001b[38;5;28;01melse\u001b[39;00m:\n\u001b[0;32m--> 533\u001b[0m     \u001b[38;5;28;01mraise\u001b[39;00m \u001b[38;5;167;01mFileNotFoundError\u001b[39;00m(\u001b[38;5;124mf\u001b[39m\u001b[38;5;124m\"\u001b[39m\u001b[38;5;132;01m{\u001b[39;00mpath\u001b[38;5;132;01m}\u001b[39;00m\u001b[38;5;124m not found.\u001b[39m\u001b[38;5;124m\"\u001b[39m)\n",
      "\u001b[0;31mFileNotFoundError\u001b[0m: measurements.csv not found."
     ]
    }
   ],
   "source": [
    "# comprehensive optimization algorithm: DE\n",
    "DE_paras = {\"p_num\":10, \"psi0\":[], \"ctrl0\":[], \"measurement0\":[], \\\n",
    "            \"max_episode\":1000, \"c\":1.0, \"cr\":0.5, \"seed\":1234}\n",
    "com = ComprehensiveOpt(savefile=False, method=\"DE\", **DE_paras)\n",
    "com.dynamics(tspan, H0, dH, Hc=Hc, decay=decay, ctrl_bound=[-2.0,2.0], dyn_method=\"expm\")\n",
    "com.CM(rho0)\n",
    "# load the measurements\n",
    "M = np.load(\"measurements.npy\")[-1]\n",
    "\n",
    "# # comprehensive optimization algorithm: PSO\n",
    "# PSO_paras = {\"p_num\":10, \"psi0\":[], \"ctrl0\":[], \\\n",
    "#              \"measurement0\":[], \"max_episode\":[1000,100], \"c0\":1.0, \\\n",
    "#              \"c1\":2.0, \"c2\":2.0, \"seed\":1234}\n",
    "# com = ComprehensiveOpt(savefile=False, method=\"PSO\", **PSO_paras)\n",
    "# com.dynamics(tspan, H0, dH, Hc=Hc, decay=decay, ctrl_bound=[-2.0,2.0], dyn_method=\"expm\")\n",
    "# com.CM(rho0)\n",
    "# # load the measurements\n",
    "# M = np.load(\"measurements.npy\")[-1]"
   ]
  },
  {
   "cell_type": "markdown",
   "metadata": {},
   "source": [
    "## State, control and measurement optimization"
   ]
  },
  {
   "cell_type": "code",
   "execution_count": null,
   "metadata": {},
   "outputs": [],
   "source": [
    "# comprehensive optimization algorithm: DE\n",
    "DE_paras = {\"p_num\":10, \"psi0\":[], \"ctrl0\":[], \"measurement0\":[], \\\n",
    "            \"max_episode\":1000, \"c\":1.0, \"cr\":0.5, \"seed\":1234}\n",
    "com = ComprehensiveOpt(savefile=False, method=\"DE\", **DE_paras)\n",
    "com.dynamics(tspan, H0, dH, Hc=Hc, decay=decay, ctrl_bound=[-2.0,2.0], dyn_method=\"expm\")\n",
    "com.SCM()\n",
    "# load the measurements\n",
    "M = np.load(\"measurements.npy\")[-1]\n",
    "\n",
    "# # comprehensive optimization algorithm: PSO\n",
    "# PSO_paras = {\"p_num\":10, \"psi0\":[], \"ctrl0\":[], \\\n",
    "#              \"measurement0\":[], \"max_episode\":[1000,100], \"c0\":1.0, \\\n",
    "#              \"c1\":2.0, \"c2\":2.0, \"seed\":1234}\n",
    "# com = ComprehensiveOpt(savefile=False, method=\"PSO\", **PSO_paras)\n",
    "# com.dynamics(tspan, H0, dH, Hc=Hc, decay=decay, ctrl_bound=[-2.0,2.0], dyn_method=\"expm\")\n",
    "# com.SCM()\n",
    "# # load the measurements\n",
    "# M = np.load(\"measurements.npy\")[-1]"
   ]
  }
 ],
 "metadata": {
  "kernelspec": {
   "display_name": "Python 3.7.6 ('base')",
   "language": "python",
   "name": "python3"
  },
  "language_info": {
   "codemirror_mode": {
    "name": "ipython",
    "version": 3
   },
   "file_extension": ".py",
   "mimetype": "text/x-python",
   "name": "python",
   "nbconvert_exporter": "python",
   "pygments_lexer": "ipython3",
   "version": "3.11.7"
  },
  "vscode": {
   "interpreter": {
    "hash": "ad2bdc8ecc057115af97d19610ffacc2b4e99fae6737bb82f5d7fb13d2f2c186"
   }
  }
 },
 "nbformat": 4,
 "nbformat_minor": 4
}
