{
 "cells": [
  {
   "cell_type": "markdown",
   "metadata": {},
   "source": [
    "# Control optimization in NV center (multiparameter) "
   ]
  },
  {
   "cell_type": "markdown",
   "metadata": {},
   "source": [
    "This is the source codes for the example discussed in Sec. IV F in Ref. [1].\n",
    "\n",
    "The Hamiltonian of a controlled system can be written as\n",
    "\\begin{align}\n",
    "H = H_0(\\textbf{x})+\\sum_{k=1}^K u_k(t) H_k,\n",
    "\\end{align}\n",
    "\n",
    "where $H_0(\\textbf{x})$ is the free evolution Hamiltonian with unknown parameters $\\textbf{x}$ and $H_k$ \n",
    "represents the $k$th control Hamiltonian with $u_k$ the correspong control coefficient.\n",
    "\n",
    "In the multiparameter scenario, the dynamics of electron and nuclear coupling in NV$^{-}$ can be expressed as\n",
    "\\begin{align}\n",
    "\\partial_t\\rho=-i[H_0+H_{\\mathrm{c}},\\rho]+\\frac{\\gamma}{2}(S_3\\rho S_3-S^2_3\\rho-\\rho S^2_3)\n",
    "\\end{align}\n",
    "\n",
    "with $\\gamma$ the dephasing rate. And\n",
    "\\begin{align}\n",
    "H_0/\\hbar=DS^2_3+g_{\\mathrm{S}}\\vec{B}\\cdot\\vec{S}+g_{\\mathrm{I}}\\vec{B}\\cdot\\vec{I}+\\vec{S}^{\\,\\mathrm{T}}\\mathcal{A}\\vec{I}\n",
    "\\end{align}\n",
    "\n",
    "is the free evolution Hamiltonian, where $\\vec{S}=(S_1,S_2,S_3)^{\\mathrm{T}}$ and $\\vec{I}=(I_1,I_2,I_3)^{\\mathrm{T}}$ with \n",
    "$S_i=s_i\\otimes I$ and $I_i=I\\otimes \\sigma_i$ ($i=1,2,3$) the electron and nuclear operators. $\\mathcal{A}=\\mathrm{diag}\n",
    "(A_1,A_1,A_2)$ is the hyperfine tensor with $A_1$ and $A_2$ the axial and transverse magnetic hyperfine coupling coefficients.\n",
    "The coefficients $g_{\\mathrm{S}}=g_\\mathrm{e}\\mu_\\mathrm{B}/\\hbar$ and $g_{\\mathrm{I}}=g_\\mathrm{n}\\mu_\\mathrm{n}/\\hbar$, \n",
    "where $g_\\mathrm{e}$ ($g_\\mathrm{n}$) is the $g$ factor of the electron (nuclear), $\\mu_\\mathrm{B}$ ($\\mu_\\mathrm{n}$) is the Bohr (nuclear) magneton and $\\hbar$ is the Plank's constant. $\\vec{B}$ is the magnetic field which be estimated. The control Hamiltonian is\n",
    "\\begin{align}\n",
    "H_{\\mathrm{c}}/\\hbar=\\sum^3_{i=1}\\Omega_i(t)S_i\n",
    "\\end{align}\n",
    "\n",
    "with $\\Omega_i(t)$ the time-dependent Rabi frequency.\n",
    "\n",
    "In this case, the initial state is taken as $\\frac{1}{\\sqrt{2}}(|1\\rangle+|\\!-\\!1\\rangle)\\otimes|\\!\\!\\uparrow\\rangle$, \n",
    "where $\\frac{1}{\\sqrt{2}}(|1\\rangle+|\\!-\\!1\\rangle)$ is an electron state with $|1\\rangle$ $(|\\!-\\!1\\rangle)$ the \n",
    "eigenstate of $s_3$ with respect to the eigenvalue $1$ ($-1$). $|\\!\\!\\uparrow\\rangle$ is a nuclear state and \n",
    "the eigenstate of $\\sigma_3$ with respect to the eigenvalue 1. $W$ is set to be $I$.\n",
    "\n",
    "[1] M. Zhang et al., QuanEstimation: an open-source toolkit for quantum parameter estimation,\n",
    "arXiv:2022.xxxx."
   ]
  },
  {
   "cell_type": "code",
   "execution_count": null,
   "metadata": {},
   "outputs": [],
   "source": [
    "from quanestimation import *\n",
    "import numpy as np\n",
    "from numpy.random import random\n",
    "\n",
    "# initial state\n",
    "rho0 = np.zeros((6, 6), dtype=np.complex128)\n",
    "rho0[0][0], rho0[0][4], rho0[4][0], rho0[4][4] = 0.5, 0.5, 0.5, 0.5\n",
    "# free Hamiltonian\n",
    "sx = np.array([[0., 1.],[1., 0.]])\n",
    "sy = np.array([[0., -1.j],[1.j, 0.]]) \n",
    "sz = np.array([[1., 0.],[0., -1.]])\n",
    "ide2 = np.array([[1., 0.],[0., 1.]])\n",
    "s1 = np.array([[0., 1., 0.],[1., 0., 1.],[0., 1., 0.]])/np.sqrt(2)\n",
    "s2 = np.array([[0., -1.j, 0.],[1.j, 0., -1.j],[0., 1.j, 0.]])/np.sqrt(2)\n",
    "s3 = np.array([[1., 0., 0.],[0., 0., 0.],[0., 0., -1.]])\n",
    "ide3 = np.array([[1., 0., 0.],[0., 1., 0.],[0., 0., 1.]])\n",
    "I1, I2, I3 = np.kron(ide3, sx), np.kron(ide3, sy), np.kron(ide3, sz)\n",
    "S1, S2, S3 = np.kron(s1, ide2), np.kron(s2, ide2), np.kron(s3, ide2)\n",
    "B1, B2, B3 = 5.0e-4, 5.0e-4, 5.0e-4\n",
    "# All numbers are divided by 100 in this example \n",
    "# for better calculation accurancy\n",
    "cons = 100\n",
    "D = (2*np.pi*2.87*1000)/cons\n",
    "gS = (2*np.pi*28.03*1000)/cons\n",
    "gI = (2*np.pi*4.32)/cons\n",
    "A1 = (2*np.pi*3.65)/cons\n",
    "A2 = (2*np.pi*3.03)/cons\n",
    "H0 = D*np.kron(np.dot(s3, s3), ide2) + gS*(B1*S1+B2*S2+B3*S3) \\\n",
    "     + gI*(B1*I1+B2*I2+B3*I3) + A1*(np.kron(s1, sx) + np.kron(s2, sy)) \\\n",
    "     + A2*np.kron(s3, sz)\n",
    "# derivatives of the free Hamiltonian on B1, B2 and B3\n",
    "dH = [gS*S1+gI*I1, gS*S2+gI*I2, gS*S3+gI*I3]\n",
    "# control Hamiltonians \n",
    "Hc = [S1, S2, S3]\n",
    "# dissipation\n",
    "decay = [[S3, 2*np.pi/cons]]\n",
    "# measurement\n",
    "dim = len(rho0)\n",
    "M = [np.dot(basis(dim, i), basis(dim, i).conj().T) for i in range(dim)]\n",
    "# time length for the evolution\n",
    "tspan = np.linspace(0., 2., 4000)\n",
    "# guessed control coefficients\n",
    "cnum = 10\n",
    "np.random.seed(1234)\n",
    "ini_1 = np.zeros((len(Hc),cnum))\n",
    "ini_2 = 0.2*np.ones((len(Hc),cnum))\n",
    "ini_3 = -0.2*np.ones((len(Hc),cnum))\n",
    "ini_4 = np.array([np.linspace(-0.2,0.2,cnum) for i in range(len(Hc))])\n",
    "ini_5 = np.array([np.linspace(-0.2,0.0,cnum) for i in range(len(Hc))])\n",
    "ini_6 = np.array([np.linspace(0,0.2,cnum) for i in range(len(Hc))])\n",
    "ini_7 = -0.2*np.ones((len(Hc),cnum))+0.01*random((len(Hc),cnum))\n",
    "ini_8 = -0.2*np.ones((len(Hc),cnum))+0.01*random((len(Hc),cnum))\n",
    "ini_9 = -0.2*np.ones((len(Hc),cnum))+0.05*random((len(Hc),cnum))\n",
    "ini_10 = -0.2*np.ones((len(Hc),cnum))+0.05*random((len(Hc),cnum))\n",
    "ctrl0 = [ini_1, ini_2, ini_3, ini_4, ini_5, \\\n",
    "         ini_6, ini_7, ini_8, ini_9, ini_10]"
   ]
  },
  {
   "cell_type": "markdown",
   "metadata": {},
   "source": [
    "## Choose the control algorithm"
   ]
  },
  {
   "cell_type": "code",
   "execution_count": null,
   "metadata": {},
   "outputs": [],
   "source": [
    "# control algorithm: auto-GRAPE\n",
    "GRAPE_paras = {\"Adam\":True, \"ctrl0\":[ini_1], \"max_episode\":300, \\\n",
    "               \"epsilon\":0.01, \"beta1\":0.90, \"beta2\":0.99}\n",
    "control = ControlOpt(savefile=False, method=\"auto-GRAPE\", **GRAPE_paras)\n",
    "\n",
    "# # control algorithm: PSO\n",
    "# PSO_paras = {\"p_num\":10, \"ctrl0\":ctrl0, \"max_episode\":[1000,100], \\\n",
    "#              \"c0\":1.0, \"c1\":2.0, \"c2\":2.0, \"seed\":1234}\n",
    "# control = ControlOpt(savefile=False, method=\"PSO\", **PSO_paras)\n",
    "\n",
    "# # control algorithm: DE\n",
    "# DE_paras = {\"p_num\":10, \"ctrl0\":ctrl0, \"max_episode\":1000, \"c\":1.0, \\\n",
    "#             \"cr\":0.5, \"seed\":1234}\n",
    "# control = ControlOpt(savefile=False, method=\"DE\", **DE_paras)\n",
    "\n",
    "# # control algorithm: DDPG\n",
    "# DDPG_paras = {\"layer_num\":4, \"layer_dim\":220, \"max_episode\":500, \\\n",
    "#               \"seed\":1234}\n",
    "# control = ControlOpt(savefile=False, method=\"DDPG\", **DDPG_paras)"
   ]
  },
  {
   "cell_type": "code",
   "execution_count": null,
   "metadata": {},
   "outputs": [],
   "source": [
    "# input the dynamics data\n",
    "control.dynamics(tspan, rho0, H0, dH, Hc, decay=decay, ctrl_bound=[-0.2, 0.2], dyn_method=\"expm\")"
   ]
  },
  {
   "cell_type": "markdown",
   "metadata": {},
   "source": [
    "## Choose the objective function"
   ]
  },
  {
   "cell_type": "code",
   "execution_count": null,
   "metadata": {},
   "outputs": [],
   "source": [
    "# objective function: tr(WF^{-1})\n",
    "control.QFIM()\n",
    "\n",
    "# # objective function: tr(WI^{-1})\n",
    "# control.CFIM(M=M)\n",
    "\n",
    "# # objective function: HCRB\n",
    "# control.HCRB()"
   ]
  }
 ],
 "metadata": {
  "interpreter": {
   "hash": "949777d72b0d2535278d3dc13498b2535136f6dfe0678499012e853ee9abcab1"
  },
  "kernelspec": {
   "display_name": "Python 3.10.2 64-bit",
   "language": "python",
   "name": "python3"
  },
  "language_info": {
   "codemirror_mode": {
    "name": "ipython",
    "version": 3
   },
   "file_extension": ".py",
   "mimetype": "text/x-python",
   "name": "python",
   "nbconvert_exporter": "python",
   "pygments_lexer": "ipython3",
   "version": "3.10.4"
  }
 },
 "nbformat": 4,
 "nbformat_minor": 4
}
