{
 "cells": [
  {
   "cell_type": "markdown",
   "metadata": {},
   "source": [
    "# State optimization in LMG model (single parameter)"
   ]
  },
  {
   "cell_type": "markdown",
   "metadata": {},
   "source": [
    "This is the source codes for the example discussed in Sec. V in Ref. [1].\n",
    "\n",
    "The Hamiltonian of the Lipkin–Meshkov–Glick (LMG) model is\n",
    "\\begin{align}\n",
    "H_{\\mathrm{LMG}}=-\\frac{\\lambda}{N}(J_1^2+gJ_2^2)-hJ_3,\n",
    "\\end{align}\n",
    "\n",
    "where $N$ is the number of spins of the system, $\\lambda$ is the spin–spin interaction strength, $h$ is the strength of the \n",
    "external field and $g$ is the anisotropic parameter. $J_i=\\frac{1}{2}\\sum_{j=1}^N \\sigma_i^{(j)}$ ($i=1,2,3$) is the collective spin operator with $\\sigma_i^{(j)}$ the $i$th Pauli matrix for the $j$th spin. In single-parameter scenario, we take $g$ as the unknown parameter to be estimated. The states are expanded as \n",
    "$|\\psi\\rangle=\\sum^J_{m=-J}c_m|J,m\\rangle$ with $|J,m\\rangle$ the Dicke state and $c_m$ a complex coefficient. Here we fixed \n",
    "$J=N/2$. In this example, the probe state is optimized for both noiseless scenario and collective dephasing noise. The dynamics under collective dephasing can be expressed as\n",
    "\\begin{align}\n",
    "\\partial_t\\rho = -i[H_{\\mathrm{LMG}},\\rho]+\\gamma \\left(J_3\\rho J_3-\\frac{1}{2}\\left\\{\\rho, J^2_3\\right\\}\\right)\n",
    "\\end{align}\n",
    "\n",
    "with $\\gamma$ the decay rate.\n",
    "\n",
    "In this case, all searches with different algorithms start from the coherent spin state defined by\n",
    "$|\\theta=\\frac{\\pi}{2},\\phi=\\frac{\\pi}{2}\\rangle=\\exp(-\\frac{\\theta}{2}e^{-i\\phi}J_{+}+\\frac{\\theta}{2}e^{i\\phi}J_{-})|J,J\\rangle$ with $J_{\\pm}=J_1{\\pm}iJ_2$.\n",
    "\n",
    "[1] M. Zhang et al., QuanEstimation: an open-source toolkit for quantum parameter estimation,\n",
    "arXiv:2205.15588.\n"
   ]
  },
  {
   "cell_type": "code",
   "execution_count": 1,
   "metadata": {},
   "outputs": [],
   "source": [
    "from quanestimation import *\n",
    "import numpy as np\n",
    "from qutip import *\n",
    "\n",
    "# dimensions of the system\n",
    "N = 8\n",
    "# generation of the coherent spin state\n",
    "psi_css = spin_coherent(0.5*N, 0.5*np.pi, 0.5*np.pi, type=\"ket\").full()\n",
    "psi_css = psi_css.reshape(1, -1)[0]\n",
    "# guessed state\n",
    "psi0 = [psi_css]\n",
    "# free Hamiltonian\n",
    "Lambda, g, h = 1.0, 0.5, 0.1\n",
    "Jx, Jy, Jz = jmat(0.5*N)\n",
    "Jx, Jy, Jz = Jx.full(), Jy.full(), Jz.full()\n",
    "H0 = -Lambda*(np.dot(Jx, Jx) + g*np.dot(Jy, Jy))/N - h*Jz\n",
    "# derivative of the free Hamiltonian on g\n",
    "dH = [-Lambda*np.dot(Jy, Jy)/N]\n",
    "# dissipation\n",
    "decay = [[Jz, 0.1]]\n",
    "# time length for the evolution\n",
    "tspan = np.linspace(0., 10., 2500)"
   ]
  },
  {
   "cell_type": "markdown",
   "metadata": {},
   "source": [
    "## Choose the state optimization method"
   ]
  },
  {
   "cell_type": "code",
   "execution_count": 2,
   "metadata": {},
   "outputs": [],
   "source": [
    "# state optimization algorithm: AD\n",
    "AD_paras = {\"Adam\":False, \"psi0\":psi0, \"max_episode\":300, \\\n",
    "            \"epsilon\":0.01, \"beta1\":0.90, \"beta2\":0.99}\n",
    "state = StateOpt(savefile=False, method=\"AD\", **AD_paras)\n",
    "\n",
    "# # state optimization algorithm: PSO\n",
    "# PSO_paras = {\"p_num\":10, \"psi0\":psi0, \"max_episode\":[1000,100], \\\n",
    "#              \"c0\":1.0, \"c1\":2.0, \"c2\":2.0, \"seed\":1234}\n",
    "# state = StateOpt(savefile=False, method=\"PSO\", **PSO_paras)\n",
    "\n",
    "# # state optimization algorithm: DE\n",
    "# DE_paras = {\"p_num\":10, \"psi0\":psi0, \"max_episode\":1000, \"c\":1.0, \\\n",
    "#             \"cr\":0.5, \"seed\":1234}\n",
    "# state = StateOpt(savefile=False, method=\"DE\", **DE_paras)\n",
    "\n",
    "# # state optimization algorithm: NM\n",
    "# NM_paras = {\"p_num\":20, \"psi0\":psi0, \"max_episode\":1000, \\\n",
    "#             \"ar\":1.0, \"ae\":2.0, \"ac\":0.5, \"as0\":0.5, \"seed\":1234}\n",
    "# state = StateOpt(savefile=False, method=\"NM\", **NM_paras)\n"
   ]
  },
  {
   "cell_type": "code",
   "execution_count": 3,
   "metadata": {},
   "outputs": [],
   "source": [
    "# input the dynamics data\n",
    "state.dynamics(tspan, H0, dH, decay=decay, dyn_method=\"expm\")"
   ]
  },
  {
   "cell_type": "markdown",
   "metadata": {},
   "source": [
    "## Choose the objective function"
   ]
  },
  {
   "cell_type": "code",
   "execution_count": null,
   "metadata": {},
   "outputs": [],
   "source": [
    "# objective function: QFI\n",
    "state.QFIM()\n",
    "\n",
    "# # objective function: CFI\n",
    "# state.CFIM()"
   ]
  }
 ],
 "metadata": {
  "kernelspec": {
   "display_name": "Python 3.8.5 ('base')",
   "language": "python",
   "name": "python3"
  },
  "language_info": {
   "codemirror_mode": {
    "name": "ipython",
    "version": 3
   },
   "file_extension": ".py",
   "mimetype": "text/x-python",
   "name": "python",
   "nbconvert_exporter": "python",
   "pygments_lexer": "ipython3",
   "version": "3.8.5"
  },
  "vscode": {
   "interpreter": {
    "hash": "d34272c1815fa88b32f392e0cc1fe18076084d67ac8dd81fe4d16eefd891f6c8"
   }
  }
 },
 "nbformat": 4,
 "nbformat_minor": 4
}
