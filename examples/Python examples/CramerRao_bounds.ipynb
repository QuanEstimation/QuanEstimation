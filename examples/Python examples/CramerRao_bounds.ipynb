{
 "cells": [
  {
   "cell_type": "markdown",
   "metadata": {},
   "source": [
    "# Calculation of CFI and QFI"
   ]
  },
  {
   "cell_type": "markdown",
   "metadata": {},
   "source": [
    "This is the source codes for the example discussed in Sec. III A in Ref. [1].\n",
    "\n",
    "The Hamiltonian of a single qubit system is $H = \\frac{1}{2}\\omega \\sigma_3$ with \n",
    "$\\omega$ the frequency and $\\sigma_3$ a Pauli matrix. The dynamics of the system is governed by\n",
    "\\begin{align}\n",
    "\\partial_t\\rho=-i[H, \\rho]+ \\gamma_{+}\\left(\\sigma_{+}\\rho\\sigma_{-}-\\frac{1}{2}\\{\\sigma_{-}\\sigma_{+},\\rho\\}\\right)+ \\gamma_{-}\\left(\\sigma_{-}\\rho\\sigma_{+}-\\frac{1}{2}\\{\\sigma_{+}\\sigma_{-},\\rho\\}\\right),\n",
    "\\end{align}\n",
    "\n",
    "where $\\sigma_{\\pm}=\\frac{1}{2}(\\sigma_1 \\pm \\sigma_2)$ with $\\sigma_{1}$, $\\sigma_{2}$ Pauli matrices and\n",
    "$\\gamma_{+}$, $\\gamma_{-}$ are decay rates. The probe state is taken as $|+\\rangle$ and the measurement for CFI is $\\{|+\\rangle\\langle+|, |-\\rangle\\langle-|\\}$ with\n",
    "$|\\pm\\rangle:=\\frac{1}{\\sqrt{2}}(|0\\rangle\\pm|1\\rangle)$. Here $|0\\rangle$ and $|1\\rangle$ are the eigenstates of $\\sigma_3$ with respect to the eigenvalues $1$ and $-1$.\n",
    "\n",
    "[1] M. Zhang et al., QuanEstimation: an open-source toolkit for quantum parameter estimation,\n",
    "arXiv:2022.xxxx."
   ]
  },
  {
   "cell_type": "code",
   "execution_count": 5,
   "metadata": {},
   "outputs": [],
   "source": [
    "from quanestimation import *\n",
    "import numpy as np\n",
    "\n",
    "# initial state\n",
    "rho0 = 0.5*np.array([[1., 1.], [1., 1.]])\n",
    "# free Hamiltonian\n",
    "omega = 1.0\n",
    "sz = np.array([[1., 0.], [0., -1.]])\n",
    "H0 = 0.5*omega*sz\n",
    "# derivative of the free Hamiltonian on omega\n",
    "dH = [0.5*sz]\n",
    "# dissipation\n",
    "sp = np.array([[0., 1.], [0., 0.]])  \n",
    "sm = np.array([[0., 0.], [1., 0.]]) \n",
    "decay = [[sp, 0.0], [sm, 0.1]]\n",
    "# measurement\n",
    "M1 = 0.5*np.array([[1., 1.], [1., 1.]])\n",
    "M2 = 0.5*np.array([[1., -1.], [-1., 1.]])\n",
    "M = [M1, M2]\n",
    "# time length for the evolution\n",
    "tspan = np.linspace(0., 50., 2000)\n",
    "# dynamics\n",
    "dynamics = Lindblad(tspan, rho0, H0, dH, decay)\n",
    "rho, drho = dynamics.expm()\n",
    "# calculation of the CFI and QFI\n",
    "I, F = [], []\n",
    "for ti in range(1,2000):\n",
    "    # CFI\n",
    "    I_tp = CFIM(rho[ti], drho[ti], M=M)\n",
    "    I.append(I_tp)\n",
    "    # QFI\n",
    "    F_tp = QFIM(rho[ti], drho[ti], LDtype=\"LLD\")\n",
    "    F.append(F_tp)"
   ]
  }
 ],
 "metadata": {
  "interpreter": {
   "hash": "949777d72b0d2535278d3dc13498b2535136f6dfe0678499012e853ee9abcab1"
  },
  "kernelspec": {
   "display_name": "Python 3.10.2 64-bit",
   "language": "python",
   "name": "python3"
  },
  "language_info": {
   "codemirror_mode": {
    "name": "ipython",
    "version": 3
   },
   "file_extension": ".py",
   "mimetype": "text/x-python",
   "name": "python",
   "nbconvert_exporter": "python",
   "pygments_lexer": "ipython3",
   "version": "3.10.2"
  }
 },
 "nbformat": 4,
 "nbformat_minor": 4
}
