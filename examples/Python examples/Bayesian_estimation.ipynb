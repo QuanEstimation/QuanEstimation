{
 "cells": [
  {
   "cell_type": "markdown",
   "metadata": {},
   "source": [
    "# Bayesian estimation"
   ]
  },
  {
   "cell_type": "markdown",
   "metadata": {},
   "source": [
    "This is the source codes for the example discussed in Sec. III E in Ref. [1].\n",
    "\n",
    "The Hamiltonian of a qubit system is\n",
    "\\begin{align}\n",
    "H=\\frac{B\\omega_0}{2}(\\sigma_1\\cos{x}+\\sigma_3\\sin{x}),\n",
    "\\end{align}\n",
    "\n",
    "where $B$ is the magnetic field in the XZ plane, $x$ is the unknown parameter and $\\sigma_{1}$, $\\sigma_{3}$ are the Pauli matrices.\n",
    "\n",
    "The probe state is taken as $|\\pm\\rangle$. The measurement is \n",
    "$\\{|\\!+\\rangle\\langle+\\!|,|\\!-\\rangle\\langle-\\!|\\}$. Here $|\\pm\\rangle:=\\frac{1}{\\sqrt{2}}(|0\\rangle\\pm|1\\rangle)$ with $|0\\rangle$ $(|1\\rangle)$ the eigenstate of $\\sigma_3$ with respect to the eigenvalue $1$ $(-1)$. In this example, the prior distribution $p(x)$ is uniform on $[0, \\pi/2]$.\n",
    "\n",
    "[1] M. Zhang et al., QuanEstimation: an open-source toolkit for quantum parameter estimation,\n",
    "arXiv:2205.15588."
   ]
  },
  {
   "cell_type": "code",
   "execution_count": 1,
   "metadata": {},
   "outputs": [],
   "source": [
    "from quanestimation import *\n",
    "import numpy as np\n",
    "import random\n",
    "\n",
    "# initial state\n",
    "rho0 = 0.5*np.array([[1., 1.], [1., 1.]])\n",
    "# free Hamiltonian\n",
    "B, omega0 = np.pi/2.0, 1.0\n",
    "sx = np.array([[0., 1.], [1., 0.]])\n",
    "sy = np.array([[0., -1.j], [1.j, 0.]]) \n",
    "sz = np.array([[1., 0.], [0., -1.]])\n",
    "H0_func = lambda x: 0.5*B*omega0*(sx*np.cos(x)+sz*np.sin(x))\n",
    "# derivative of the free Hamiltonian on x\n",
    "dH_func = lambda x: [0.5*B*omega0*(-sx*np.sin(x)+sz*np.cos(x))]\n",
    "# measurement\n",
    "M1 = 0.5*np.array([[1., 1.], [1., 1.]])\n",
    "M2 = 0.5*np.array([[1.,-1.], [-1., 1.]])\n",
    "M = [M1, M2]\n",
    "# prior distribution\n",
    "x = np.linspace(0., 0.5*np.pi, 1000)\n",
    "p = (1.0/(x[-1]-x[0]))*np.ones(len(x))\n",
    "# time length for the evolution\n",
    "tspan = np.linspace(0., 1., 1000)\n",
    "# dynamics\n",
    "rho = [np.zeros((len(rho0), len(rho0)), dtype=np.complex128) \\\n",
    "       for i in range(len(x))]\n",
    "for i in range(len(x)):\n",
    "    H0 = H0_func(x[i])\n",
    "    dH = dH_func(x[i])\n",
    "    dynamics = Lindblad(tspan, rho0, H0, dH)\n",
    "    rho_tp, drho_tp = dynamics.expm()\n",
    "    rho[i] = rho_tp[-1]"
   ]
  },
  {
   "cell_type": "markdown",
   "metadata": {},
   "source": [
    "Generation of the experimental results"
   ]
  },
  {
   "cell_type": "code",
   "execution_count": 2,
   "metadata": {},
   "outputs": [],
   "source": [
    "random.seed(1234)\n",
    "y = [0 for i in range(500)]\n",
    "res_rand = random.sample(range(0,len(y)), 125)\n",
    "for i in range(len(res_rand)):\n",
    "    y[res_rand[i]] = 1"
   ]
  },
  {
   "cell_type": "markdown",
   "metadata": {},
   "source": [
    "Maximum a posteriori estimation"
   ]
  },
  {
   "cell_type": "code",
   "execution_count": 4,
   "metadata": {},
   "outputs": [],
   "source": [
    "pout, xout = Bayes([x], p, rho, y, M=M, estimator=\"MAP\", savefile=False)"
   ]
  },
  {
   "cell_type": "markdown",
   "metadata": {},
   "source": [
    "Maximum likelihood estimation"
   ]
  },
  {
   "cell_type": "code",
   "execution_count": null,
   "metadata": {},
   "outputs": [],
   "source": [
    "Lout, xout = MLE([x], rho, y, M=M, savefile=False)"
   ]
  },
  {
   "cell_type": "code",
   "execution_count": null,
   "metadata": {},
   "outputs": [],
   "source": []
  }
 ],
 "metadata": {
  "kernelspec": {
   "display_name": "Python 3.8.5 ('base')",
   "language": "python",
   "name": "python3"
  },
  "language_info": {
   "codemirror_mode": {
    "name": "ipython",
    "version": 3
   },
   "file_extension": ".py",
   "mimetype": "text/x-python",
   "name": "python",
   "nbconvert_exporter": "python",
   "pygments_lexer": "ipython3",
   "version": "3.8.5"
  },
  "vscode": {
   "interpreter": {
    "hash": "d34272c1815fa88b32f392e0cc1fe18076084d67ac8dd81fe4d16eefd891f6c8"
   }
  }
 },
 "nbformat": 4,
 "nbformat_minor": 4
}
