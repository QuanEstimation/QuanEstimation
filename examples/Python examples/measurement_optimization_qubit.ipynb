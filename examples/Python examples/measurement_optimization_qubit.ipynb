{
 "cells": [
  {
   "cell_type": "markdown",
   "metadata": {},
   "source": [
    "# Measurement optimization in single qubit system (single parameter)"
   ]
  },
  {
   "cell_type": "markdown",
   "metadata": {},
   "source": [
    "This is the source codes for the example discussed in Sec. VI in Ref. [1].\n",
    "\n",
    "A single qubit system whose dynamics is governed by\n",
    "\\begin{align}\n",
    "\\partial_t\\rho=-i[H, \\rho]+ \\gamma_{+}\\left(\\sigma_{+}\\rho\\sigma_{-}-\\frac{1}{2}\\{\\sigma_{-}\\sigma_{+},\\rho\\}\\right)+ \\gamma_{-}\\left(\\sigma_{-}\\rho\\sigma_{+}-\\frac{1}{2}\\{\\sigma_{+}\\sigma_{-},\\rho\\}\\right),\n",
    "\\end{align}\n",
    "\n",
    "where $H = \\frac{1}{2}\\omega \\sigma_3$ is the free Hamiltonian with $\\omega$ the frequency, $\\sigma_{\\pm}=(\\sigma_1 \\pm \\sigma_2)/2$ and $\\gamma_{+}$, $\\gamma_{-}$ are decay rates.\n",
    "Here $\\sigma_{i}$ for $(i=1,2,3)$ is the  Pauli matrix.\n",
    "\n",
    "In this case, the probe state is taken as $\\frac{1}{\\sqrt{2}}(|0\\rangle +|1\\rangle)$, $|0\\rangle$ $(|1\\rangle)$ is the \n",
    "eigenstate of $\\sigma_3$ with respect to the eigenvalue $1$ $(-1)$. Here we use algorithms to obtain the optimal \n",
    "projective measurements.\n",
    "\n",
    "[1] M. Zhang et al., QuanEstimation: an open-source toolkit for quantum parameter estimation,\n",
    "arXiv:2205.15588."
   ]
  },
  {
   "cell_type": "code",
   "execution_count": 1,
   "metadata": {},
   "outputs": [],
   "source": [
    "from quanestimation import *\n",
    "import numpy as np\n",
    "\n",
    "# initial state\n",
    "rho0 = 0.5*np.array([[1., 1.], [1., 1.]])\n",
    "# free Hamiltonian\n",
    "omega = 1.0\n",
    "sx = np.array([[0., 1.], [1., 0.]])\n",
    "sy = np.array([[0., -1.j], [1.j, 0.]]) \n",
    "sz = np.array([[1., 0.], [0., -1.]])\n",
    "H0 = 0.5*omega*sz\n",
    "# derivative of the free Hamiltonian on omega\n",
    "dH = [0.5*sz]\n",
    "# dissipation\n",
    "sp = np.array([[0., 1.], [0., 0.]])  \n",
    "sm = np.array([[0., 0.], [1., 0.]]) \n",
    "decay = [[sp, 0.], [sm, 0.1]]\n",
    "# generation of a set of POVM basis\n",
    "dim = np.shape(rho0)[0]\n",
    "POVM_basis = SIC(dim)\n",
    "# time length for the evolution\n",
    "tspan = np.linspace(0., 10., 25)"
   ]
  },
  {
   "cell_type": "markdown",
   "metadata": {},
   "source": [
    "## Projective measurement optimization"
   ]
  },
  {
   "cell_type": "code",
   "execution_count": 13,
   "metadata": {},
   "outputs": [],
   "source": [
    "# # generation of the entry of `measurement0`\n",
    "# C = [[] for i in range(dim)] \n",
    "# for i in range(dim):\n",
    "#     r_ini = 2*np.random.random(dim)-np.ones(dim)\n",
    "#     r = r_ini/np.linalg.norm(r_ini)\n",
    "#     phi = 2*np.pi*np.random.random(dim)\n",
    "#     C[i] = [r[j]*np.exp(1.0j*phi[j]) for j in range(dim)]\n",
    "# C = np.array(gramschmidt(C))\n",
    "# measurement0 = [C for _ in range(10)]\n",
    "\n",
    "\n",
    "# measurement optimization algorithm: DE\n",
    "DE_paras = {\"p_num\":10, \"measurement0\":[], \"max_episode\":1000, \\\n",
    "            \"c\":1.0, \"cr\":0.5, \"seed\":1234}\n",
    "m = MeasurementOpt(mtype=\"projection\", minput=[], savefile=False, \\\n",
    "                   method=\"DE\", **DE_paras)\n",
    "\n",
    "# # measurement optimization algorithm: PSO\n",
    "# PSO_paras = {\"p_num\":10, \"measurement0\":[], \"max_episode\":[1000,100], \\\n",
    "#              \"c0\":1.0, \"c1\":2.0, \"c2\":2.0, \"seed\":1234}\n",
    "# m = MeasurementOpt(mtype=\"projection\", minput=[], savefile=False, \\\n",
    "#                    method=\"PSO\", **PSO_paras)"
   ]
  },
  {
   "cell_type": "code",
   "execution_count": 14,
   "metadata": {},
   "outputs": [],
   "source": [
    "# input the dynamics data\n",
    "m.dynamics(tspan, rho0, H0, dH, decay=decay, dyn_method=\"expm\")\n",
    "# objective function: CFI\n",
    "m.CFIM()"
   ]
  },
  {
   "cell_type": "code",
   "execution_count": 15,
   "metadata": {},
   "outputs": [],
   "source": [
    "# load the measurements\n",
    "M = np.load(\"measurements.npy\")[-1]"
   ]
  },
  {
   "cell_type": "markdown",
   "metadata": {},
   "source": [
    "## Find the optimal linear combination of an input measurement"
   ]
  },
  {
   "cell_type": "code",
   "execution_count": 3,
   "metadata": {},
   "outputs": [],
   "source": [
    "# the number of operators of the output measurement\n",
    "M_num = 2\n",
    "\n",
    "# # generation of the entry of `measurement0`\n",
    "# B = np.array([np.random.random(len(POVM_basis)) for i in range(M_num)])\n",
    "# measurement0 = [B for _ in range(10)]\n",
    "\n",
    "# measurement optimization algorithm: DE\n",
    "DE_paras = {\"p_num\":10, \"measurement0\":[], \"max_episode\":1000, \\\n",
    "            \"c\":1.0, \"cr\":0.5, \"seed\":1234}\n",
    "m = MeasurementOpt(mtype=\"input\", minput=[\"LC\", POVM_basis, M_num], \\\n",
    "                   savefile=False, method=\"DE\", **DE_paras)\n",
    "\n",
    "# # measurement optimization algorithm: PSO\n",
    "# PSO_paras = {\"p_num\":10, \"measurement0\":[], \\\n",
    "#              \"max_episode\":[1000,100], \"c0\":1.0, \\\n",
    "#              \"c1\":2.0, \"c2\":2.0, \"seed\":1234}\n",
    "# m = MeasurementOpt(mtype=\"input\", minput=[\"LC\", POVM_basis, M_num], \\\n",
    "#                    savefile=False, method=\"PSO\", **PSO_paras)\n",
    "\n",
    "# # measurement optimization algorithm: AD\n",
    "# AD_paras = {\"Adam\":False, \"measurement0\":[], \"max_episode\":300, \\\n",
    "#             \"epsilon\":0.01, \"beta1\":0.90, \"beta2\":0.99}\n",
    "# m = MeasurementOpt(mtype=\"input\", minput=[\"LC\", POVM_basis, M_num], \\\n",
    "#                    savefile=False, method=\"AD\", **AD_paras)"
   ]
  },
  {
   "cell_type": "code",
   "execution_count": 4,
   "metadata": {},
   "outputs": [],
   "source": [
    "# input the dynamics data\n",
    "m.dynamics(tspan, rho0, H0, dH, decay=decay, dyn_method=\"expm\")\n",
    "# objective function: CFI\n",
    "m.CFIM()"
   ]
  },
  {
   "cell_type": "code",
   "execution_count": 6,
   "metadata": {},
   "outputs": [],
   "source": [
    "# load the measurements\n",
    "M = np.load(\"measurements.npy\")[-1]"
   ]
  },
  {
   "cell_type": "markdown",
   "metadata": {},
   "source": [
    "## Find the optimal rotated measurement of an input measurement"
   ]
  },
  {
   "cell_type": "code",
   "execution_count": 5,
   "metadata": {},
   "outputs": [],
   "source": [
    "M_num = dim\n",
    "\n",
    "# generation of the entry of `measurement0`\n",
    "s = np.random.random(dim**2)\n",
    "measurement0 = [s for _ in range(10)]"
   ]
  },
  {
   "cell_type": "code",
   "execution_count": 16,
   "metadata": {},
   "outputs": [],
   "source": [
    "\n",
    "# measurement optimization algorithm: DE\n",
    "DE_paras = {\"p_num\":10, \"measurement0\":[], \"max_episode\":1000, \\\n",
    "            \"c\":1.0, \"cr\":0.5, \"seed\":1234}\n",
    "m = MeasurementOpt(mtype=\"input\", minput=[\"rotation\", POVM_basis], \\\n",
    "                   savefile=False, method=\"DE\", **DE_paras)\n",
    "\n",
    "# # measurement optimization algorithm: PSO\n",
    "# PSO_paras = {\"p_num\":10, \"measurement0\":[], \\\n",
    "#              \"max_episode\":[1000,100], \"c0\":1.0, \\\n",
    "#              \"c1\":2.0, \"c2\":2.0, \"seed\":1234}\n",
    "# m = MeasurementOpt(mtype=\"input\", minput=[\"rotation\", POVM_basis], \\\n",
    "#                    savefile=False, method=\"PSO\", **PSO_paras)\n",
    "\n",
    "# # measurement optimization algorithm: AD\n",
    "# AD_paras = {\"Adam\":False, \"measurement0\":[], \"max_episode\":300, \\\n",
    "#             \"epsilon\":0.01, \"beta1\":0.90, \"beta2\":0.99}\n",
    "# m = MeasurementOpt(mtype=\"input\", minput=[\"rotation\", POVM_basis], \\\n",
    "#                    savefile=False, method=\"AD\", **AD_paras)"
   ]
  },
  {
   "cell_type": "code",
   "execution_count": 17,
   "metadata": {},
   "outputs": [],
   "source": [
    "# input the dynamics data\n",
    "m.dynamics(tspan, rho0, H0, dH, decay=decay, dyn_method=\"expm\")\n",
    "# objective function: CFI\n",
    "m.CFIM()"
   ]
  },
  {
   "cell_type": "code",
   "execution_count": 21,
   "metadata": {},
   "outputs": [],
   "source": [
    "# load the measurements\n",
    "M = np.load(\"measurements.npy\")[-1]"
   ]
  }
 ],
 "metadata": {
  "kernelspec": {
   "display_name": "Python 3.7.6 ('base')",
   "language": "python",
   "name": "python3"
  },
  "language_info": {
   "codemirror_mode": {
    "name": "ipython",
    "version": 3
   },
   "file_extension": ".py",
   "mimetype": "text/x-python",
   "name": "python",
   "nbconvert_exporter": "python",
   "pygments_lexer": "ipython3",
   "version": "3.11.7"
  },
  "vscode": {
   "interpreter": {
    "hash": "ad2bdc8ecc057115af97d19610ffacc2b4e99fae6737bb82f5d7fb13d2f2c186"
   }
  }
 },
 "nbformat": 4,
 "nbformat_minor": 4
}
