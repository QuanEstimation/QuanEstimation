{
 "cells": [
  {
   "cell_type": "code",
   "execution_count": null,
   "metadata": {},
   "outputs": [],
   "source": [
    "from quanestimation import *\n",
    "import numpy as np\n",
    "\n",
    "# the number of photons\n",
    "N = 8\n",
    "# probe state\n",
    "psi = np.zeros((N+1)**2).reshape(-1, 1)\n",
    "for k in range(N+1):\n",
    "    psi += np.sin((k+1)*np.pi/(N+2))* \\\n",
    "           np.kron(basis(N+1, k), basis(N+1, N-k))\n",
    "psi = np.sqrt(2/(2+N))*psi\n",
    "rho0 = np.dot(psi, psi.conj().T)\n",
    "# prior distribution\n",
    "x = np.linspace(-np.pi, np.pi, 100)\n",
    "p = (1.0/(x[-1]-x[0]))*np.ones(len(x))\n",
    "apt = Adapt_MZI(x, p, rho0)\n",
    "apt.general()"
   ]
  },
  {
   "cell_type": "markdown",
   "metadata": {},
   "source": [
    "online strategy"
   ]
  },
  {
   "cell_type": "code",
   "execution_count": null,
   "metadata": {},
   "outputs": [],
   "source": [
    "apt.online(target=\"sharpness\", output=\"phi\")"
   ]
  },
  {
   "cell_type": "markdown",
   "metadata": {},
   "source": [
    "offline strategy"
   ]
  },
  {
   "cell_type": "code",
   "execution_count": null,
   "metadata": {},
   "outputs": [],
   "source": [
    "# algorithm: DE\n",
    "DE_para = {\"p_num\":10, \"deltaphi0\":[], \"max_episode\":1000, \"c\":1.0, \n",
    "           \"cr\":0.5, \"seed\":1234}\n",
    "apt.offline(target=\"sharpness\", method=\"DE\", **DE_para)\n",
    "\n",
    "# # algorithm: PSO\n",
    "# PSO_para = {\"p_num\":10, \"deltaphi0\":[], \"max_episode\":[1000,100], \n",
    "#             \"c0\":1.0, \"c1\":2.0, \"c2\":2.0, \"seed\":1234}\n",
    "# apt.offline(target=\"sharpness\", method=\"PSO\", **PSO_para)\n"
   ]
  }
 ],
 "metadata": {
  "interpreter": {
   "hash": "949777d72b0d2535278d3dc13498b2535136f6dfe0678499012e853ee9abcab1"
  },
  "kernelspec": {
   "display_name": "Python 3 (ipykernel)",
   "language": "python",
   "name": "python3"
  },
  "language_info": {
   "codemirror_mode": {
    "name": "ipython",
    "version": 3
   },
   "file_extension": ".py",
   "mimetype": "text/x-python",
   "name": "python",
   "nbconvert_exporter": "python",
   "pygments_lexer": "ipython3",
   "version": "3.10.4"
  }
 },
 "nbformat": 4,
 "nbformat_minor": 4
}
