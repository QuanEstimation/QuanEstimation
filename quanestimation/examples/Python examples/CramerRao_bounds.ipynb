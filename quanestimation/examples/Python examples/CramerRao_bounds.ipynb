{
 "cells": [
  {
   "cell_type": "markdown",
   "metadata": {},
   "source": [
    "# Calculation of CFI and QFI"
   ]
  },
  {
   "cell_type": "markdown",
   "metadata": {},
   "source": [
    "This is the source codes for the example discussed in Sec. III A in Ref. [1].\n",
    "\n",
    "The Hamiltonian of a single qubit system is $H = \\frac{1}{2}\\omega \\sigma_3$ with \n",
    "$\\omega$ the frequency and $\\sigma_3$ a Pauli matrix. The dynamics of the system is governed by\n",
    "\\begin{align}\n",
    "\\partial_t\\rho=-i[H, \\rho]+ \\gamma_{+}\\left(\\sigma_{+}\\rho\\sigma_{-}-\\frac{1}{2}\\{\\sigma_{-}\\sigma_{+},\\rho\\}\\right)+ \\gamma_{-}\\left(\\sigma_{-}\\rho\\sigma_{+}-\\frac{1}{2}\\{\\sigma_{+}\\sigma_{-},\\rho\\}\\right),\n",
    "\\end{align}\n",
    "\n",
    "where $\\sigma_{\\pm}=\\frac{1}{2}(\\sigma_1 \\pm \\sigma_2)$ with $\\sigma_{1}$, $\\sigma_{2}$ Pauli matrices and\n",
    "$\\gamma_{+}$, $\\gamma_{-}$ are decay rates. The probe state is taken as $|+\\rangle$ and the measurement for CFI is $\\{|+\\rangle\\langle+|, |-\\rangle\\langle-|\\}$ with\n",
    "$|\\pm\\rangle:=\\frac{1}{\\sqrt{2}}(|0\\rangle\\pm|1\\rangle)$. Here $|0\\rangle$ and $|1\\rangle$ are the eigenstates of $\\sigma_3$ with respect to the eigenvalues $1$ and $-1$.\n",
    "\n",
    "[1] M. Zhang et al., QuanEstimation: an open-source toolkit for quantum parameter estimation, Phys. Rev. Res. 4, 043057 (2022)."
   ]
  },
  {
   "cell_type": "code",
   "execution_count": null,
   "metadata": {},
   "outputs": [
    {
     "name": "stdout",
     "output_type": "stream",
     "text": [
      "[juliapkg] Found dependencies: /Users/liujing/quanestimation/lib/python3.12/site-packages/juliapkg/juliapkg.json\n",
      "[juliapkg] Found dependencies: /Users/liujing/quanestimation/lib/python3.12/site-packages/juliacall/juliapkg.json\n",
      "[juliapkg] Locating Julia 1.6.1 - 1.10.0, ^1.10.3\n",
      "[juliapkg] Using Julia 1.11.5 at /Users/liujing/.julia/juliaup/julia-1.11.5+0.x64.apple.darwin14/bin/julia\n",
      "[juliapkg] Using Julia project at /Users/liujing/quanestimation/julia_env\n",
      "[juliapkg] Writing Project.toml:\n",
      "             [deps]\n",
      "             PythonCall = \"6099a3de-0909-46bc-b1f4-468b9a2dfc0d\"\n",
      "             OpenSSL_jll = \"458c3c95-2e84-50aa-8efc-19380b2a3a95\"\n",
      "             [compat]\n",
      "             PythonCall = \"=0.9.25\"\n",
      "             OpenSSL_jll = \"3.0.0 - 3.5\"\n",
      "[juliapkg] Installing packages:\n",
      "             import Pkg\n",
      "             Pkg.Registry.update()\n",
      "             Pkg.add([\n",
      "               Pkg.PackageSpec(name=\"PythonCall\", uuid=\"6099a3de-0909-46bc-b1f4-468b9a2dfc0d\"),\n",
      "               Pkg.PackageSpec(name=\"OpenSSL_jll\", uuid=\"458c3c95-2e84-50aa-8efc-19380b2a3a95\"),\n",
      "             ])\n",
      "             Pkg.resolve()\n",
      "             Pkg.precompile()\n"
     ]
    },
    {
     "name": "stderr",
     "output_type": "stream",
     "text": [
      "    Updating registry at `~/.julia/registries/General.toml`\n",
      "   Resolving package versions...\n",
      "    Updating `~/quanestimation/julia_env/Project.toml`\n",
      "  [6099a3de] + PythonCall v0.9.25\n",
      "  [458c3c95] + OpenSSL_jll v3.5.0+0\n",
      "    Updating `~/quanestimation/julia_env/Manifest.toml`\n",
      "  [992eb4ea] + CondaPkg v0.2.29\n",
      "  [9a962f9c] + DataAPI v1.16.0\n",
      "  [e2d170a0] + DataValueInterfaces v1.0.0\n",
      "  [82899510] + IteratorInterfaceExtensions v1.0.0\n",
      "  [692b3bcd] + JLLWrappers v1.7.0\n",
      "  [0f8b85d8] + JSON3 v1.14.3\n",
      "  [1914dd2f] + MacroTools v0.5.16\n",
      "  [0b3b1443] + MicroMamba v0.1.14\n",
      "  [bac558e1] + OrderedCollections v1.8.1\n",
      "  [69de0a69] + Parsers v2.8.3\n",
      "  [fa939f87] + Pidfile v1.3.0\n",
      "⌅ [aea7be01] + PrecompileTools v1.2.1\n",
      "  [21216c6a] + Preferences v1.4.3\n",
      "  [6099a3de] + PythonCall v0.9.25\n",
      "  [ae029012] + Requires v1.3.1\n",
      "  [6c6a2e73] + Scratch v1.2.1\n",
      "  [856f2bd8] + StructTypes v1.11.0\n",
      "  [3783bdb8] + TableTraits v1.0.1\n",
      "  [bd369af6] + Tables v1.12.1\n",
      "  [e17b2a0c] + UnsafePointers v1.0.0\n",
      "  [458c3c95] + OpenSSL_jll v3.5.0+0\n",
      "  [f8abcde7] + micromamba_jll v1.5.8+0\n",
      "  [4d7b5844] + pixi_jll v0.41.3+0\n",
      "  [0dad84c5] + ArgTools v1.1.2\n",
      "  [56f22d72] + Artifacts v1.11.0\n",
      "  [2a0f44e3] + Base64 v1.11.0\n",
      "  [ade2ca70] + Dates v1.11.0\n",
      "  [f43a241f] + Downloads v1.6.0\n",
      "  [7b1f6079] + FileWatching v1.11.0\n",
      "  [b77e0a4c] + InteractiveUtils v1.11.0\n",
      "  [4af54fe1] + LazyArtifacts v1.11.0\n",
      "  [b27032c2] + LibCURL v0.6.4\n",
      "  [76f85450] + LibGit2 v1.11.0\n",
      "  [8f399da3] + Libdl v1.11.0\n",
      "  [56ddb016] + Logging v1.11.0\n",
      "  [d6f4376e] + Markdown v1.11.0\n",
      "  [a63ad114] + Mmap v1.11.0\n",
      "  [ca575930] + NetworkOptions v1.2.0\n",
      "  [44cfe95a] + Pkg v1.11.0\n",
      "  [de0858da] + Printf v1.11.0\n",
      "  [9a3f8284] + Random v1.11.0\n",
      "  [ea8e919c] + SHA v0.7.0\n",
      "  [9e88b42a] + Serialization v1.11.0\n",
      "  [fa267f1f] + TOML v1.0.3\n",
      "  [a4e569a6] + Tar v1.10.0\n",
      "  [8dfed614] + Test v1.11.0\n",
      "  [cf7118a7] + UUIDs v1.11.0\n",
      "  [4ec0a83e] + Unicode v1.11.0\n",
      "  [deac9b47] + LibCURL_jll v8.6.0+0\n",
      "  [e37daf67] + LibGit2_jll v1.7.2+0\n",
      "  [29816b5a] + LibSSH2_jll v1.11.0+1\n",
      "  [c8ffd9c3] + MbedTLS_jll v2.28.6+0\n",
      "  [14a3606d] + MozillaCACerts_jll v2023.12.12\n",
      "  [83775a58] + Zlib_jll v1.2.13+1\n",
      "  [8e850ede] + nghttp2_jll v1.59.0+0\n",
      "  [3f19e933] + p7zip_jll v17.4.0+2\n",
      "        Info Packages marked with ⌅ have new versions available but compatibility constraints restrict them from upgrading. To see why use `status --outdated -m`\n",
      "  No Changes to `~/quanestimation/julia_env/Project.toml`\n",
      "  No Changes to `~/quanestimation/julia_env/Manifest.toml`\n"
     ]
    },
    {
     "name": "stdout",
     "output_type": "stream",
     "text": [
      "Detected IPython. Loading juliacall extension. See https://juliapy.github.io/PythonCall.jl/stable/compat/#IPython\n"
     ]
    }
   ],
   "source": [
    "from quanestimation.AsymptoticBound.CramerRao import CFIM, QFIM\n",
    "from quanestimation.Parameterization.GeneralDynamics import Lindblad\n",
    "import numpy as np"
   ]
  },
  {
   "cell_type": "code",
   "execution_count": 1,
   "metadata": {},
   "outputs": [
    {
     "ename": "NameError",
     "evalue": "name 'np' is not defined",
     "output_type": "error",
     "traceback": [
      "\u001b[31m---------------------------------------------------------------------------\u001b[39m",
      "\u001b[31mNameError\u001b[39m                                 Traceback (most recent call last)",
      "\u001b[36mCell\u001b[39m\u001b[36m \u001b[39m\u001b[32mIn[1]\u001b[39m\u001b[32m, line 2\u001b[39m\n\u001b[32m      1\u001b[39m \u001b[38;5;66;03m# initial state\u001b[39;00m\n\u001b[32m----> \u001b[39m\u001b[32m2\u001b[39m rho0 = \u001b[32m0.5\u001b[39m*\u001b[43mnp\u001b[49m.array([[\u001b[32m1.\u001b[39m, \u001b[32m1.\u001b[39m], [\u001b[32m1.\u001b[39m, \u001b[32m1.\u001b[39m]])\n\u001b[32m      3\u001b[39m \u001b[38;5;66;03m# free Hamiltonian\u001b[39;00m\n\u001b[32m      4\u001b[39m omega = \u001b[32m1.0\u001b[39m\n",
      "\u001b[31mNameError\u001b[39m: name 'np' is not defined"
     ]
    }
   ],
   "source": [
    "# initial state\n",
    "rho0 = 0.5*np.array([[1., 1.], [1., 1.]])\n",
    "# free Hamiltonian\n",
    "omega = 1.0\n",
    "sz = np.array([[1., 0.], [0., -1.]])\n",
    "H0 = 0.5*omega*sz\n",
    "# derivative of the free Hamiltonian on omega\n",
    "dH = [0.5*sz]\n",
    "# dissipation\n",
    "sp = np.array([[0., 1.], [0., 0.]])  \n",
    "sm = np.array([[0., 0.], [1., 0.]]) \n",
    "decay = [[sp, 0.0], [sm, 0.1]]\n",
    "# measurement\n",
    "M1 = 0.5*np.array([[1., 1.], [1., 1.]])\n",
    "M2 = 0.5*np.array([[1., -1.], [-1., 1.]])\n",
    "M = [M1, M2]\n",
    "# time length for the evolution\n",
    "tspan = np.linspace(0., 50., 2000)\n",
    "# dynamics\n",
    "dynamics = Lindblad(tspan, rho0, H0, dH, decay)\n",
    "rho, drho = dynamics.expm()\n",
    "# calculation of the CFI and QFI\n",
    "I, F = [], []\n",
    "for ti in range(1,2000):\n",
    "    # CFI\n",
    "    I_tp = CFIM(rho[ti], drho[ti], M=M)\n",
    "    I.append(I_tp)\n",
    "    # QFI\n",
    "    F_tp = QFIM(rho[ti], drho[ti], LDtype=\"SLD\")\n",
    "    F.append(F_tp)\n",
    "\n",
    "print(F[-1])\n",
    "print(I[-1])   "
   ]
  },
  {
   "cell_type": "code",
   "execution_count": null,
   "metadata": {},
   "outputs": [],
   "source": []
  }
 ],
 "metadata": {
  "kernelspec": {
   "display_name": "Python 3 (ipykernel)",
   "language": "python",
   "name": "python3"
  },
  "language_info": {
   "codemirror_mode": {
    "name": "ipython",
    "version": 3
   },
   "file_extension": ".py",
   "mimetype": "text/x-python",
   "name": "python",
   "nbconvert_exporter": "python",
   "pygments_lexer": "ipython3",
   "version": "3.12.10"
  }
 },
 "nbformat": 4,
 "nbformat_minor": 4
}
